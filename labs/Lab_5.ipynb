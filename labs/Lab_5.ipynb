{
 "cells": [
  {
   "cell_type": "markdown",
   "metadata": {},
   "source": [
    "# Principles of Geocomputing: Lab 5 (50 points)"
   ]
  },
  {
   "cell_type": "markdown",
   "metadata": {},
   "source": [
    "<img src=\"https://ngis.com.au/NGIS/media/Images/Our%20Technology/Planet_Deployment_Flock1dDove_3-2-15.jpg\"> Dove Satellite - https://www.planet.com/company/approach/\n",
    "\n"
   ]
  },
  {
   "cell_type": "markdown",
   "metadata": {},
   "source": [
    "## 1. Lab info and submission (1 point)"
   ]
  },
  {
   "cell_type": "markdown",
   "metadata": {},
   "source": [
    "The first section of each lab assignment should contain your name, Internet ID , and hours spent, declared using the variables below (<tt>**hoursspent**</tt> should be an <tt>**int**</tt> or a <tt>**float**</tt>, not a string). You may be asked to make use of these variables within the lab, so be careful not to overwrite their values further down.\n",
    "\n",
    "When submitting this lab in Moodle, remove unneeded sections (see \"Preparing this file for submission\") and upload to Moodle using the lab file naming convention. \n",
    "\n",
    "\n",
    "* __Standard__:&nbsp;&nbsp;&nbsp; <tt>&lt;InternetID&gt;_lab&lt;lab#&gt;.ipynb</tt>\n",
    "* __Example__:&nbsp;&nbsp;&nbsp; <tt>shepa135_lab1.ipynb</tt>"
   ]
  },
  {
   "cell_type": "code",
   "execution_count": null,
   "metadata": {
    "collapsed": true
   },
   "outputs": [],
   "source": [
    "yourname = None\n",
    "yourintid = None\n",
    "hoursspent = None"
   ]
  },
  {
   "cell_type": "markdown",
   "metadata": {},
   "source": [
    "## Before Jumping into the Lab."
   ]
  },
  {
   "cell_type": "markdown",
   "metadata": {},
   "source": [
    "Before jumping in, grab the data from Moodle and make sure all the packages are installed. If you do not do this, the lab will be a bit more difficult. (I don’t suggest this route.) Google and the package documentation will be a good ally for this lab. \n",
    "\n",
    "This lab will primarily focus on for loops, arrays, and the raster data structure. Unlike prior labs, this lab will focus on a larger problem, but there are a couple introductory questions to get warmed up.\n",
    "\n",
    "Remember to comment the code. (Factors into grading) Think about someone reading your code that understands Python, but doesn’t know what your code is doing. Why do you use a for loop here? When do these variables get used? What does this function do? Why did I declare this variable here when it’s not used until later?\n",
    "\n",
    "\n",
    "\n",
    "<blockquote><tt>\n",
    "Packages Needed<br>\n",
    "rasterio https://mapbox.github.io/rasterio/<br>\n",
    "matplotlib https://matplotlib.org/<br>\n",
    "</tt></blockquote>"
   ]
  },
  {
   "cell_type": "markdown",
   "metadata": {},
   "source": [
    "## 1. For what..? (12 pts)"
   ]
  },
  {
   "cell_type": "code",
   "execution_count": 1,
   "metadata": {
    "collapsed": true
   },
   "outputs": [],
   "source": [
    "# Do not delete this cell or alter it. Run this code cell. \n",
    "countries = [\"Peru\",\"United States\", \"South Korea\",\"Barbados\",\"China\",\"Chile\",\"Germany\",\"Morocco\",\n",
    "             \"Thailand\",\"Japan\", \"Spain\",\"China\",\"South Korea\", \"Russia\",\"South Korea\",\"South Korea\",\n",
    "             \"Mexico\", \"Oman\",\"Kenya\",\"Canada\", \"Canada\", \"Germany\",\"Bulgaria\",\"Mozambique\",\"Zambia\",\"Peru\",\n",
    "             \"Peru\",\"Chile\",\"Cuba\",\"Mexico\",\"Japan\",\"France\",\"Russia\",\"India\",\"Thailand\",\"Albania\",\"Oman\"\n",
    "            \"Algeria\",\"Angola\",\"Belize\",\"Bhutan\",\"Kenya\",\"Bolivia\",\"Brazil\",\"Chad\",\"Belgium\",\"Cameroon\",\"Fiji\"]"
   ]
  },
  {
   "cell_type": "markdown",
   "metadata": {},
   "source": [
    "Use **for** loops and the **list** above to solve the following problems. Make sure to run the cell above before moving on. "
   ]
  },
  {
   "cell_type": "markdown",
   "metadata": {},
   "source": [
    "How long is the list? Print the length of the list. *(Hint: Python has several built-in methods for lists)*\n"
   ]
  },
  {
   "cell_type": "code",
   "execution_count": null,
   "metadata": {
    "collapsed": true
   },
   "outputs": [],
   "source": []
  },
  {
   "cell_type": "markdown",
   "metadata": {},
   "source": [
    "Print each country on a new line. "
   ]
  },
  {
   "cell_type": "code",
   "execution_count": null,
   "metadata": {
    "collapsed": true
   },
   "outputs": [],
   "source": []
  },
  {
   "cell_type": "markdown",
   "metadata": {},
   "source": [
    "That was pretty cool. Now sort the list in alphabetical order, and print each country on each line.   *(Hint: Python has several built-in methods for lists)*"
   ]
  },
  {
   "cell_type": "code",
   "execution_count": null,
   "metadata": {
    "collapsed": true
   },
   "outputs": [],
   "source": []
  },
  {
   "cell_type": "markdown",
   "metadata": {},
   "source": [
    "In the cell below, count and print how many times **South Korea** shows up in our list. *(Hint: Python has several built-in methods for lists)*"
   ]
  },
  {
   "cell_type": "code",
   "execution_count": 3,
   "metadata": {},
   "outputs": [
    {
     "data": {
      "text/plain": [
       "4"
      ]
     },
     "execution_count": 3,
     "metadata": {},
     "output_type": "execute_result"
    }
   ],
   "source": []
  },
  {
   "cell_type": "markdown",
   "metadata": {},
   "source": [
    "## 3. Nested Lists (12 pts)\n"
   ]
  },
  {
   "cell_type": "code",
   "execution_count": null,
   "metadata": {
    "collapsed": true
   },
   "outputs": [],
   "source": [
    "# Do not delete or alter the code.\n",
    "nestedList1 = [[1,2,5],[34,1,3],[90,54,32]]\n",
    "nestedList2 = [[8,3,43],[9,23,1000],[321,60,20]]"
   ]
  },
  {
   "cell_type": "markdown",
   "metadata": {},
   "source": [
    "Find and print the sum of each list. "
   ]
  },
  {
   "cell_type": "code",
   "execution_count": null,
   "metadata": {
    "collapsed": true
   },
   "outputs": [],
   "source": []
  },
  {
   "cell_type": "markdown",
   "metadata": {},
   "source": [
    "Find out and print which list has the largest number. (Please do not hard code)"
   ]
  },
  {
   "cell_type": "code",
   "execution_count": null,
   "metadata": {
    "collapsed": true
   },
   "outputs": [],
   "source": []
  },
  {
   "cell_type": "markdown",
   "metadata": {},
   "source": [
    "Add the numbers in the same position in the lists together, and print the result.  For example, 1 would be added to 8 for the first position, 2 would be added to 3, 5 would be added to 43, etc)"
   ]
  },
  {
   "cell_type": "code",
   "execution_count": null,
   "metadata": {
    "collapsed": true
   },
   "outputs": [],
   "source": []
  },
  {
   "cell_type": "markdown",
   "metadata": {},
   "source": [
    "## 4. Raster Master (*In Progress*) (20 Points Total)"
   ]
  },
  {
   "cell_type": "markdown",
   "metadata": {},
   "source": [
    "Welcome! Now we will start working with raster data. If you haven't downloaded the material from moodle, please do so now. \n",
    "\n",
    "The imagery dataset is a Landsat .tif image that downloaded from USGS. The raster data structure consists of an array of cells. (Similar to a nested list) Each cell in a raster represents a pixel value which portrays that portion of the landscape. Landsat's resolution is 30 meters, so each cell represents a 30 x 30 square on the Earth. What does this mean? The resolution of Landsat imagery is rather coarse when compared to other imagery such as Sentinel, PlanetScope, or RapidEye. This isn't always bad! Sometimes, people want to study global trends in agriculture, forest, etc where Landsat is very appropriate. (And it's free!) We are using Landsat 5, but there is a number of other Landsat satellites. (RIP Landsat 6) Landsat 9 is set to be launched in 2020! As the resolution of imagery increases, the data increases as well. For example, if you're using 1,000 images in a project, this is something that you should pay attention to. At the beginning of the lab, there is a picture of two Dove Satellites. These are considered Cubesats which are changing the landscape of remote sensing and GIS. For more information about this, read this https://www.nasa.gov/mission_pages/cubesats/overview. The problem then shifts from having a limited amount of imagery to having too much! (Kind of) But that's where coders, such as yourself, come into play. \n",
    "\n",
    "\n",
    "In this course, we won't talk a whole lot about the science of remote sensing. Our objective is to have you understand and work with this type of data. If you want to learn more about remote sensing, consider taking a course with Professor Joe Knight. In this lab, we use rasterio, but this is not the only package that can be used for this type of thing.(numpy is another popular package for arrays.)\n",
    "\n",
    "\n",
    "For the future (Not needed in this lab!), a good spot to find free imagery is Earth Explorer. https://earthexplorer.usgs.gov/ You will need to make an account, but you get access to the Landsat archive as well as other imagery. They even have a Python script to download a lot of imagery at once, or what is referred to as a batch download. Here, you may get a GeoTiff with 7 separate layers if downloading Landsat. (One for each band) You may want to use numpy if you're staying in Python or need to do it for many images. For testing, the Composite Bands (Data Management) tool in ArcGIS can also be of assistance. \n",
    "\n",
    "\n",
    "< Warning >\n",
    "This lab uses modules not included in the default Python set. See Anaconda Navigator to make alterations. Make sure you are able to import the modules."
   ]
  },
  {
   "cell_type": "code",
   "execution_count": 3,
   "metadata": {
    "collapsed": true
   },
   "outputs": [],
   "source": [
    "# Do not delete this. Run this code.\n",
    "\n",
    "import matplotlib.pyplot as plt\n",
    "import rasterio\n",
    "from rasterio import plot"
   ]
  },
  {
   "cell_type": "markdown",
   "metadata": {},
   "source": [
    "## 4A. Introduction (10 pts)"
   ]
  },
  {
   "cell_type": "markdown",
   "metadata": {},
   "source": [
    "With the modules imported, assign a variable to the **.tif** file downloaded from Moodle. Store the **.tif** image in the same directory as your Jupyter Notebook. Assign the image path with a string. Use the rasterio to \"open\" the image. \n",
    "\n",
    "For example <br>\n",
    "rast = rasterio.open(tifFile)"
   ]
  },
  {
   "cell_type": "code",
   "execution_count": null,
   "metadata": {
    "collapsed": true
   },
   "outputs": [],
   "source": []
  },
  {
   "cell_type": "markdown",
   "metadata": {},
   "source": [
    "Hopefully that worked, but let's make sure. Run the following code using the variable name for the raster."
   ]
  },
  {
   "cell_type": "code",
   "execution_count": 5,
   "metadata": {},
   "outputs": [
    {
     "data": {
      "text/plain": [
       "True"
      ]
     },
     "execution_count": 5,
     "metadata": {},
     "output_type": "execute_result"
    }
   ],
   "source": [
    "# os module provides a portable way to work with your operating system\n",
    "# For more information see https://docs.python.org/3/library/os.html \n",
    "import os.path\n",
    "\n",
    "# This checks if the file is there. Returns a boolean value. \n",
    "# Change fname if you named it something else.\n",
    "os.path.isfile(fname) "
   ]
  },
  {
   "cell_type": "markdown",
   "metadata": {
    "collapsed": true
   },
   "source": [
    "Lets take a look at the image. Using matplotlib **plot.show()** command, display the image below. The **cmap** allows the user to change the color ramp of the image. "
   ]
  },
  {
   "cell_type": "code",
   "execution_count": null,
   "metadata": {
    "collapsed": true
   },
   "outputs": [],
   "source": []
  },
  {
   "cell_type": "markdown",
   "metadata": {},
   "source": [
    "Our raster is looking stellar, but visualizations are not everything. We need to learn more about the raster before we start working with it. The grouping of questions are considered investigative, but neccesary. Follow along to find out more about the image we are working with. "
   ]
  },
  {
   "cell_type": "markdown",
   "metadata": {},
   "source": [
    "## 4B. Exploration (10 pts)"
   ]
  },
  {
   "cell_type": "markdown",
   "metadata": {},
   "source": [
    "Lets see if there is any meta data for our raster image. In the cell below, print the metadata for the raster. "
   ]
  },
  {
   "cell_type": "code",
   "execution_count": null,
   "metadata": {
    "collapsed": true
   },
   "outputs": [],
   "source": []
  },
  {
   "cell_type": "markdown",
   "metadata": {},
   "source": [
    "In the cell below, print the length and width of the raster. "
   ]
  },
  {
   "cell_type": "code",
   "execution_count": null,
   "metadata": {
    "collapsed": true
   },
   "outputs": [],
   "source": []
  },
  {
   "cell_type": "markdown",
   "metadata": {},
   "source": [
    "In the cell below, print the bounding box coordinates for the raster."
   ]
  },
  {
   "cell_type": "code",
   "execution_count": null,
   "metadata": {
    "collapsed": true
   },
   "outputs": [],
   "source": []
  },
  {
   "cell_type": "markdown",
   "metadata": {},
   "source": [
    "In the cell below, print the coordinate system of the raster. Rasterio will give you something like 'epsg:5343'. Find out what the english name of the coordinate system is print that. (Google may be of help here)"
   ]
  },
  {
   "cell_type": "code",
   "execution_count": null,
   "metadata": {
    "collapsed": true
   },
   "outputs": [],
   "source": []
  },
  {
   "cell_type": "markdown",
   "metadata": {},
   "source": [
    "In the cell below, print the number of bands the raster has. Each band has a specific purpose in detecting values from the electromagnetic spectrum. And each band may be configured depending on the sensor used. Since this is a Landsat image, refer to https://landsat.usgs.gov/what-are-band-designations-landsat-satellites"
   ]
  },
  {
   "cell_type": "code",
   "execution_count": null,
   "metadata": {
    "collapsed": true
   },
   "outputs": [],
   "source": []
  },
  {
   "cell_type": "markdown",
   "metadata": {},
   "source": [
    "In the cell below, create a histogram of the pixel values that make up the raster. (*Hint: Use matplotlib*)  "
   ]
  },
  {
   "cell_type": "code",
   "execution_count": null,
   "metadata": {
    "collapsed": true
   },
   "outputs": [],
   "source": []
  },
  {
   "cell_type": "markdown",
   "metadata": {},
   "source": [
    "## How were your comments? (5 pts)"
   ]
  },
  {
   "cell_type": "markdown",
   "metadata": {},
   "source": [
    "In the cell below, justify your use of comments. Potential topics could include frequency of comments, style of comments, and/or placement of comments. "
   ]
  },
  {
   "cell_type": "code",
   "execution_count": null,
   "metadata": {
    "collapsed": true
   },
   "outputs": [],
   "source": []
  },
  {
   "cell_type": "markdown",
   "metadata": {},
   "source": [
    "Next week we will start to do some fun this with Rasters! Cheers!"
   ]
  }
 ],
 "metadata": {
  "kernelspec": {
   "display_name": "Python 3",
   "language": "python",
   "name": "python3"
  },
  "language_info": {
   "codemirror_mode": {
    "name": "ipython",
    "version": 3
   },
   "file_extension": ".py",
   "mimetype": "text/x-python",
   "name": "python",
   "nbconvert_exporter": "python",
   "pygments_lexer": "ipython3",
   "version": "3.6.3"
  }
 },
 "nbformat": 4,
 "nbformat_minor": 2
}
