{
 "cells": [
  {
   "cell_type": "markdown",
   "metadata": {},
   "source": [
    "# Principles of Geocomputing: Lab 1B (25 points)"
   ]
  },
  {
   "cell_type": "markdown",
   "metadata": {},
   "source": [
    "\n",
    "## Welcome!\n",
    "\n",
    "This first lab is an introduction to Jupyter Notebooks, Python, and the class itself. This introductory lab is mostly designed to get you familiar with Jupyter Notebooks, writing small Python statements, and debugging Python code."
   ]
  },
  {
   "cell_type": "markdown",
   "metadata": {},
   "source": [
    "## 1. Lab info and submission (1 point)"
   ]
  },
  {
   "cell_type": "markdown",
   "metadata": {},
   "source": [
    "The first section of each lab assignment should contain your name, Internet ID, and hours spent, declared using the variables below (<tt>**hoursspent**</tt> should be an <tt>**int**</tt> or a <tt>**float**</tt>, not a string). You may be asked to make use of these variables within the lab, so be careful not to overwrite their values further down.\n",
    "\n",
    "For each of the 3 variables below, replace the value <tt>None</tt> with an appropriate value (a string, int, or float) that contains your name, your internet ID, and the number of hours you spent on the lab.  If you did not spend a full hour on the lab then feel free to say 0.5 for 30 minutes.\n",
    "\n",
    "**Reminder** Run the code cell below by clicking on the Cell and then click on the \"Run Cell\" button above.\n"
   ]
  },
  {
   "cell_type": "code",
   "execution_count": null,
   "metadata": {
    "collapsed": true
   },
   "outputs": [],
   "source": [
    "yourname = None\n",
    "yourintid = None\n",
    "hoursspent = None"
   ]
  },
  {
   "cell_type": "markdown",
   "metadata": {},
   "source": [
    "## Preparing this file for submission\n",
    "\n",
    "Before submitting this lab in Moodle, remove all cells that are not:\n",
    "\n",
    "* the assignment title,\n",
    "* your name, Internet ID, and hours spent,\n",
    "* numbered question headings (e.g., “1. Lab info and submission…”),\n",
    "* code cells (provided in the lab and your additions),\n",
    "* your own comments in markdown (# comments in code cells are OK), or\n",
    "* cells you're explicity told to keep.\n",
    "\n",
    "For example, this cell and the \"Preparing this file for submission\" cell should be deleted.\n",
    "\n",
    "When submitting this lab in Moodle, remove unneeded sections, and then upload to Moodle using the lab file naming convention. \n",
    "\n",
    "\n",
    "* __Standard__:&nbsp;&nbsp;&nbsp; <tt>&lt;InternetID&gt;_lab&lt;lab#&gt;.ipynb</tt>\n",
    "* __Example__:&nbsp;&nbsp;&nbsp; <tt>shepa135_lab1.ipynb</tt>\n"
   ]
  },
  {
   "cell_type": "markdown",
   "metadata": {},
   "source": [
    "## 2. Who are you? (2 points)"
   ]
  },
  {
   "cell_type": "markdown",
   "metadata": {},
   "source": [
    "Run the following code cell, which prints out the number of hours you spent on the lab. \n",
    "\n",
    "If you receive an Error (a bug), then you should scroll up and make sure to \"Run\" the code cell above that assigns values to the variables yourname, yourintid, hoursspent."
   ]
  },
  {
   "cell_type": "code",
   "execution_count": null,
   "metadata": {
    "collapsed": false
   },
   "outputs": [],
   "source": [
    "print(hoursspent)"
   ]
  },
  {
   "cell_type": "markdown",
   "metadata": {},
   "source": [
    "Using a single call to the <tt>**print**</tt> function, print your name using the <tt>**yourname**</tt> variable declared earlier. For example, your TA's output would appear as:\n",
    "\n",
    "<blockquote>Coleman Shepard</blockquote>"
   ]
  },
  {
   "cell_type": "code",
   "execution_count": null,
   "metadata": {
    "collapsed": true
   },
   "outputs": [],
   "source": []
  },
  {
   "cell_type": "markdown",
   "metadata": {},
   "source": [
    "## 3. What is your internet ID? (2 points)"
   ]
  },
  {
   "cell_type": "markdown",
   "metadata": {},
   "source": [
    "Using a single call to the <tt>**print**</tt> function, print your Internet ID using the <tt>**yourintid**</tt> variable declared earlier. For example, your TA's output would appear as:\n",
    "\n",
    "<blockquote>shepa135</blockquote>\n"
   ]
  },
  {
   "cell_type": "code",
   "execution_count": null,
   "metadata": {
    "collapsed": true
   },
   "outputs": [],
   "source": []
  },
  {
   "cell_type": "markdown",
   "metadata": {},
   "source": [
    "## Initial Data Types\n"
   ]
  },
  {
   "cell_type": "markdown",
   "metadata": {},
   "source": [
    "Here are some basic data types that many programming languages use. \n",
    "\n",
    "* Strings - Text usually marked with \" \" or ' '\n",
    "* Boolean - True or False\n",
    "* Integers - 1 or 45 or 899\n",
    "* Floats - 1.2343 or 4.56\n",
    "\n",
    "<u>To check the data type of a variable</u>, use the <tt>**type()**</tt> function in the same way you use the <tt>**print()** function.\n"
   ]
  },
  {
   "cell_type": "markdown",
   "metadata": {},
   "source": [
    "## 3. What type of data is this? (5 points)"
   ]
  },
  {
   "cell_type": "markdown",
   "metadata": {},
   "source": [
    "Use the <tt>**type**</tt> statement to check the data type of the variable below. \n",
    "\n",
    "<blockquote>dog = \"Golden Retriever\" </blockquote>"
   ]
  },
  {
   "cell_type": "code",
   "execution_count": null,
   "metadata": {
    "collapsed": false
   },
   "outputs": [],
   "source": [
    "dog=\"Golden Retriever\"\n"
   ]
  },
  {
   "cell_type": "markdown",
   "metadata": {},
   "source": [
    "## 4. Print the dog variable 5 times? (5 points)"
   ]
  },
  {
   "cell_type": "markdown",
   "metadata": {},
   "source": [
    "For this question, instead of printing the data type, write Python code that uses the <tt>**print**</tt> statement (potentially multiple times) to print the <tt>**dog**</tt> variable 5 times because 5 dogs are better than 1 dog. "
   ]
  },
  {
   "cell_type": "code",
   "execution_count": null,
   "metadata": {
    "collapsed": true
   },
   "outputs": [],
   "source": []
  },
  {
   "cell_type": "markdown",
   "metadata": {},
   "source": [
    "## Reserved Words "
   ]
  },
  {
   "cell_type": "markdown",
   "metadata": {},
   "source": [
    "<tt>**and, del, global, not, with, as, elif, if, or, yield, assert, else, import, pass, break, except, in, raise, class, finally, is, return, continue, for, lambda, try, def, from, nonlocal, while **</tt>\n",
    "\n",
    "\n",
    "These are words that are considered reserved words in Python. (See page 5 in Python for Everybody) Each of these words has a special purpose in Python and may cause problems if used incorrectly. There is no need to memorize all of them at this point, but keep this for future reference. (*Hint: They may be highlighted a different color in Jupyter Notebooks*)"
   ]
  },
  {
   "cell_type": "markdown",
   "metadata": {},
   "source": [
    "## 5. Fix the following code (10 points)"
   ]
  },
  {
   "cell_type": "markdown",
   "metadata": {},
   "source": [
    "Fix the errors and inconsistencies in the code below. The <tt>**print**</tt> statement at the end of the code block should display the value of the variable containing the combined variables."
   ]
  },
  {
   "cell_type": "code",
   "execution_count": null,
   "metadata": {
    "collapsed": false
   },
   "outputs": [],
   "source": [
    "# Computer part sales. The total should print the value 178000\n",
    "\n",
    "global-LaptopSales2017 = \"90000\"\n",
    "global-DesktopSales2017 = 88000\n",
    "\n",
    "globl2017totalSales = globaLlaptopSales217 + globalDesktopSales2017\n",
    "print(global2017totalSales)"
   ]
  },
  {
   "cell_type": "code",
   "execution_count": null,
   "metadata": {
    "collapsed": true
   },
   "outputs": [],
   "source": [
    "# Pizza Delivery Address\n",
    "\n",
    "streetNum = 269\n",
    "streetName = 19\"th Avenue S\"\n",
    "city = Minneapolis\n",
    "stateAbbrev = 'MN\n",
    "zipCode = 55455\n",
    "\n",
    "# The line of code below uses string concatenation, which we will learn more about later in the semester \n",
    "completeAddress = \"Please bring pizza to this address: \" + streetnum + \" \" + streetName + \", \" + \"city\" + StateAbbrev + zipCode\n",
    "# Hint: pay attention to the quotes!\n",
    "print(completeAddress)"
   ]
  }
 ],
 "metadata": {
  "anaconda-cloud": {},
  "kernelspec": {
   "display_name": "Python [default]",
   "language": "python",
   "name": "python3"
  },
  "language_info": {
   "codemirror_mode": {
    "name": "ipython",
    "version": 3
   },
   "file_extension": ".py",
   "mimetype": "text/x-python",
   "name": "python",
   "nbconvert_exporter": "python",
   "pygments_lexer": "ipython3",
   "version": "3.5.2"
  }
 },
 "nbformat": 4,
 "nbformat_minor": 2
}
