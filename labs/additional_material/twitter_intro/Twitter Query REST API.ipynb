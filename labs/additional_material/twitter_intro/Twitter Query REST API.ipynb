{
 "cells": [
  {
   "cell_type": "markdown",
   "metadata": {},
   "source": [
    "# Twitter Query Example Notebook\n",
    "\n",
    "For these codes to work users must first insert there keys and secrets into the box below and run the code cell.\n",
    "\n",
    "It contains a number of examples to use and modify."
   ]
  },
  {
   "cell_type": "code",
   "execution_count": null,
   "metadata": {
    "collapsed": false
   },
   "outputs": [],
   "source": [
    "\n",
    "# Insert your consumer key and secret inside the quotes below\n",
    "consumer_key = \"\"\n",
    "consumer_secret = \"\"\n",
    "\n",
    "# Insert your access key and secret inside the quotes below\n",
    "access_token_key = \"\"\n",
    "access_token_secret = \"\"\n",
    "\n",
    "print(\"Consumer and access keys and secrets have been successfully added\")\n"
   ]
  },
  {
   "cell_type": "code",
   "execution_count": null,
   "metadata": {
    "collapsed": false
   },
   "outputs": [],
   "source": [
    "# Example: Search for and print tweets using the 'search/tweets' endpoint\n",
    "\n",
    "# Keywords to search for. Let's try some different terms\n",
    "\n",
    "keywords = \"water, quality\" # Water OR quality\n",
    "\n",
    "# keywords = \"water quality\" # Water AND quality\n",
    "\n",
    "# keywords = \"'water quality'\" # phrase 'Water quality'\n",
    "\n",
    "# keywords = \"water -quality\" # water, but not quality\n",
    "\n",
    "# keywords = \"#waterquality\" # hashtag waterquality\n",
    "\n",
    "keywords = \"water quality ?\" # water AND quality that are asking a question (?)\n",
    "\n",
    "\n",
    "# More examples: https://dev.twitter.com/rest/public/search\n",
    "\n",
    "# This line allows us to access the TwitterAPI library\n",
    "from TwitterAPI import TwitterAPI\n",
    "\n",
    "print(\"Starting TwitterAPI\")\n",
    "api = TwitterAPI(consumer_key, consumer_secret, access_token_key, access_token_secret)\n",
    "\n",
    "\n",
    "print(\"Setting up request for the search API\")\n",
    "r = api.request('search/tweets', {'q': keywords})\n",
    "\n",
    "count = 1\n",
    "stop = 25\n",
    "\n",
    "print(\"Begin capturing tweets using REST APIs\")\n",
    "for tweet in r:\n",
    "\n",
    "        print(\"%i. %s tweeted %s\" %(count,tweet['user']['name'],repr(tweet['text'])))\n",
    "\n",
    "        # Add 1 to count and if count is over 100 then stop capturing tweets\n",
    "        count = count + 1\n",
    "        if(count>stop):\n",
    "            break        # Stop capturing tweets\n",
    "\n",
    "print(\"Done\")"
   ]
  },
  {
   "cell_type": "code",
   "execution_count": null,
   "metadata": {
    "collapsed": false
   },
   "outputs": [],
   "source": [
    "# Example: Search one user's tweets\n",
    "\n",
    "# A good way to reconstruct the tweet history of a user (limited to 3200 most recent tweets)\n",
    "\n",
    "# This line allows us to access the TwitterAPI library\n",
    "from TwitterAPI import TwitterAPI\n",
    "import pprint\n",
    "\n",
    "print(\"Starting TwitterAPI\")\n",
    "api = TwitterAPI(consumer_key, consumer_secret, access_token_key, access_token_secret)\n",
    "\n",
    "print(\"Setting up request for the search API\")\n",
    "r = api.request('statuses/user_timeline', {'screen_name': 'NatGeo'})\n",
    "\n",
    "print(\"Begin capturing tweets using REST APIs\")\n",
    "for tweet in r:\n",
    "\n",
    "        print(\"%s tweeted %s\" %(tweet['user']['name'],repr(tweet['text'])))\n",
    "\n",
    "        # Or print out the whole tweet\n",
    "        #pprint.pprint(tweet)\n",
    "        \n",
    "print(\"Done\")"
   ]
  },
  {
   "cell_type": "code",
   "execution_count": null,
   "metadata": {
    "collapsed": false
   },
   "outputs": [],
   "source": [
    "# Example: Search for the followers of a user\n",
    "\n",
    "# This line allows us to access the TwitterAPI library\n",
    "from TwitterAPI import TwitterAPI\n",
    "import pprint\n",
    "\n",
    "print(\"Starting TwitterAPI\")\n",
    "api = TwitterAPI(consumer_key, consumer_secret, access_token_key, access_token_secret)\n",
    "\n",
    "print(\"Setting up request for the search API\")\n",
    "r = api.request('followers/list', {'screen_name': 'NatGeo'})\n",
    "\n",
    "print(\"Begin capturing followers using REST APIs\")\n",
    "for follower in r:\n",
    "\n",
    "        # Notice we are not working with a 'tweet' but rather a 'user'\n",
    "    \n",
    "        # Print out the whole follower\n",
    "        pprint.pprint(follower)\n",
    "\n",
    "        # Or just print out the name and the number of followers they have\n",
    "        #print(\"%s has %i followers\" %(follower['name'],follower['followers_count']))\n",
    "        \n",
    "print(\"Done\")"
   ]
  },
  {
   "cell_type": "code",
   "execution_count": null,
   "metadata": {
    "collapsed": false
   },
   "outputs": [],
   "source": [
    "# Example: Search for the friends of a user\n",
    "\n",
    "# Friends mean that userA follows userB and userB follows userA\n",
    "\n",
    "# This line allows us to access the TwitterAPI library\n",
    "from TwitterAPI import TwitterAPI\n",
    "import pprint\n",
    "\n",
    "print(\"Starting TwitterAPI\")\n",
    "api = TwitterAPI(consumer_key, consumer_secret, access_token_key, access_token_secret)\n",
    "\n",
    "print(\"Setting up request for the search API\")\n",
    "r = api.request('friends/list', {'screen_name': 'NatGeo'})\n",
    "\n",
    "print(\"Begin capturing friends using REST APIs\")\n",
    "for user in r:\n",
    "\n",
    "        # Notice we are not working with a 'tweet' but rather a 'user'\n",
    "    \n",
    "        # Print out the whole user\n",
    "        #pprint.pprint(user)\n",
    "\n",
    "        # Another advantage of printy print is that we can limit how deep in the structure we print using depth\n",
    "        # Look here for more information: https://docs.python.org/2/library/pprint.html\n",
    "        pprint.pprint(user,depth=1)\n",
    "        \n",
    "        # Print out the name and the number of followers they have\n",
    "        print(\"%s has %i friends\" %(user['name'],user['friends_count']))\n",
    "        \n",
    "print(\"Done\")"
   ]
  },
  {
   "cell_type": "code",
   "execution_count": null,
   "metadata": {
    "collapsed": false
   },
   "outputs": [],
   "source": [
    "# Example: Check our rate limit status (we are limited in how many times we can query REST APIs per minute)\n",
    "\n",
    "# This line allows us to access the TwitterAPI library\n",
    "from TwitterAPI import TwitterAPI\n",
    "import pprint\n",
    "\n",
    "print(\"Starting TwitterAPI\")\n",
    "api = TwitterAPI(consumer_key, consumer_secret, access_token_key, access_token_secret)\n",
    "\n",
    "print(\"Setting up request for the rate limit\")\n",
    "r = api.request('application/rate_limit_status')\n",
    "\n",
    "for status in r:\n",
    "\n",
    "        # Print out the status\n",
    "        pprint.pprint(status)\n",
    "\n",
    "print(\"Notice this also gives us a list of what is possible with Twitter.  Look at all the endpoints we can query\")        \n",
    "print(\"Done\")"
   ]
  },
  {
   "cell_type": "markdown",
   "metadata": {},
   "source": [
    "### Saving tweets to files (or reading them from files)"
   ]
  },
  {
   "cell_type": "code",
   "execution_count": null,
   "metadata": {
    "collapsed": true
   },
   "outputs": [],
   "source": [
    "# Example: Save our tweets as a JSON file\n",
    "\n",
    "# This line allows us to access the TwitterAPI library\n",
    "from TwitterAPI import TwitterAPI\n",
    "import pprint\n",
    "\n",
    "# Import JSON library\n",
    "import json\n",
    "\n",
    "print(\"Starting TwitterAPI\")\n",
    "api = TwitterAPI(consumer_key, consumer_secret, access_token_key, access_token_secret)\n",
    "\n",
    "print(\"Setting up request\")\n",
    "# Notice we can add filters such as locations (longitude and latitude coordinates outlining a bounding box)\n",
    "\n",
    "#r = api.request('statuses/filter', {'locations':'-125.0,30.0,-80.0,60.0'})\n",
    "r = api.request('statuses/sample')\n",
    "\n",
    "# Set count to one and stop number to 10\n",
    "count = 1\n",
    "stop = 10\n",
    "\n",
    "# Create an empty list to store captured tweets\n",
    "tweetlist = []\n",
    "\n",
    "print(\"Begin capturing tweets\")\n",
    "for tweet in r:\n",
    "        # Add this new tweet to our tweet list\n",
    "        tweetlist.append(tweet)\n",
    "        # Add 1 to count and if count is over 100 then stop capturing tweets\n",
    "        count = count + 1\n",
    "        if(count>stop):\n",
    "            break        # Stop capturing tweets\n",
    "\n",
    "print(\"Converting tweets to JSON\")\n",
    "# Convert our tweet list to JSON\n",
    "jsonlist = json.dumps(tweetlist)\n",
    "\n",
    "# Set the filename we will use to store our tweets - call it tweets.json\n",
    "tweets_filename = \"tweets.json\"\n",
    "\n",
    "# Open tweets.json to write contents (all of our tweets)\n",
    "print(\"Writing tweet JSON to output file\")\n",
    "with open(tweets_filename, 'w') as outfile:\n",
    "    json.dump(jsonlist, outfile)\n",
    "\n",
    "    \n",
    "print(\"Done\")"
   ]
  },
  {
   "cell_type": "code",
   "execution_count": null,
   "metadata": {
    "collapsed": true
   },
   "outputs": [],
   "source": [
    "# Example: Read our tweets saved to the JSON file in the code cell above\n",
    "import pprint\n",
    "\n",
    "# Import JSON library\n",
    "import json\n",
    "\n",
    "\n",
    "# Open tweets.json to read contents (all of our tweets)\n",
    "print(\"Reading tweet JSON file\")\n",
    "with open(tweets_filename, 'r') as infile:\n",
    "    jsonlist_fromfile = json.load(infile)\n",
    "\n",
    "print(\"Printing JSON information (also known as tweets)\")\n",
    "pprint.pprint(jsonlist_fromfile)\n"
   ]
  },
  {
   "cell_type": "code",
   "execution_count": null,
   "metadata": {
    "collapsed": true
   },
   "outputs": [],
   "source": [
    "# Example: Create a CSV file for further analysis\n",
    "\n",
    "# Import JSON and CSV libraries\n",
    "import json\n",
    "import csv\n",
    "\n",
    "# Open tweets.json to read contents (all of our tweets)\n",
    "print(\"Reading tweet JSON file\")\n",
    "with open(tweets_filename, 'r') as infile:\n",
    "    jsonlist = json.load(infile)\n",
    "    #jsonlist = [json.loads(line) for line in infile]\n",
    "    #jsonlist = tweets\n",
    "\n",
    "print(\"Creating tweets.csv file\")\n",
    "f = open(\"tweets.csv\", \"wb+\")\n",
    "csvfile = csv.writer(f)\n",
    "\n",
    "#Write the header row for the CSV\n",
    "csvfile.writerow([\"user\",\"text\",\"date\"])\n",
    "\n",
    "# Convert JSON string to object\n",
    "jsonlist = json.loads(jsonlist)\n",
    "\n",
    "# Write out each tweet as a row in the CSV file\n",
    "for tweet in jsonlist:\n",
    "    if 'text' in tweet: # and 'followers_count' in tweet: \n",
    "        # Notice the encode() function call, it saves the CSV from running into strange UNICODE characters...\n",
    "        csvfile.writerow([tweet['user']['name'].encode('ascii', 'ignore'),\n",
    "                        tweet['text'].encode('ascii', 'ignore'),\n",
    "                        tweet['created_at']])\n",
    "\n",
    "f.close()    \n",
    "print(\"Done\")"
   ]
  }
 ],
 "metadata": {
  "anaconda-cloud": {},
  "kernelspec": {
   "display_name": "Python [conda root]",
   "language": "python",
   "name": "conda-root-py"
  },
  "language_info": {
   "codemirror_mode": {
    "name": "ipython",
    "version": 2
   },
   "file_extension": ".py",
   "mimetype": "text/x-python",
   "name": "python",
   "nbconvert_exporter": "python",
   "pygments_lexer": "ipython2",
   "version": "2.7.12"
  }
 },
 "nbformat": 4,
 "nbformat_minor": 1
}
