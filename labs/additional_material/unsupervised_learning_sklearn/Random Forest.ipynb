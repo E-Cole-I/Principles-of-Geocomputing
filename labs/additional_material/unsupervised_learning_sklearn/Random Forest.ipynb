{
 "cells": [
  {
   "cell_type": "markdown",
   "metadata": {},
   "source": [
    "## Part 1. Importing and Paths"
   ]
  },
  {
   "cell_type": "code",
   "execution_count": 4,
   "metadata": {
    "collapsed": true
   },
   "outputs": [],
   "source": [
    "# import all required Python packages:\n",
    "from __future__ import print_function\n",
    "import skimage.io as io\n",
    "import numpy as np\n",
    "import os, shutil\n",
    "\n",
    "\n",
    "from sklearn.ensemble import AdaBoostClassifier, RandomForestClassifier, GradientBoostingClassifier, ExtraTreesClassifier\n",
    "from sklearn.externals import joblib"
   ]
  },
  {
   "cell_type": "code",
   "execution_count": 20,
   "metadata": {
    "collapsed": true
   },
   "outputs": [],
   "source": [
    "# set up your directories \n",
    "rootdir = \"\"\n",
    "\n",
    "\n",
    "# Based on the root directory for a Mac\n",
    "\n",
    "# Landsat scene\n",
    "imagePath = \"\"\n",
    "\n",
    "\n",
    "# Rasterized form of training grounds\n",
    "trainingPath = \"\"\n",
    "\n",
    "\n",
    "# Where to store the training model\n",
    "modelPath = \"\"\n",
    "\n",
    "\n",
    "# Where to store the final image\n",
    "classPath = \"\""
   ]
  },
  {
   "cell_type": "markdown",
   "metadata": {},
   "source": [
    "## Part 2. Training"
   ]
  },
  {
   "cell_type": "code",
   "execution_count": 16,
   "metadata": {},
   "outputs": [
    {
     "name": "stdout",
     "output_type": "stream",
     "text": [
      "The training data include 5 classes: [1 2 3 4 5]\n",
      "X [[255 151 178 ...,  43  82  24]\n",
      " [255 146 172 ...,  46  82  25]\n",
      " [255 140 168 ...,  47  82  25]\n",
      " ..., \n",
      " [255 229 255 ..., 227  65 136]\n",
      " [255 232 255 ..., 233  65 138]\n",
      " [255 231 255 ..., 234  65 138]]\n",
      "Y [2 2 2 ..., 1 1 1]\n"
     ]
    },
    {
     "name": "stderr",
     "output_type": "stream",
     "text": [
      "[Parallel(n_jobs=-1)]: Done   8 out of   8 | elapsed:    2.9s finished\n",
      "/Users/colemanshepard/anaconda3/lib/python3.6/site-packages/sklearn/ensemble/forest.py:453: UserWarning: Some inputs do not have OOB scores. This probably means too few trees were used to compute any reliable oob estimates.\n",
      "  warn(\"Some inputs do not have OOB scores. \"\n",
      "/Users/colemanshepard/anaconda3/lib/python3.6/site-packages/sklearn/ensemble/forest.py:458: RuntimeWarning: invalid value encountered in true_divide\n",
      "  predictions[k].sum(axis=1)[:, np.newaxis])\n"
     ]
    }
   ],
   "source": [
    "def training(rootdir, imagePath, trainingPath, ModelPath ):\n",
    "    \"\"\"\n",
    "    Training grounds and rasters have to have the same dimensions. \n",
    "    Use numpy or ArcGIS to fix this if you run into problems. \n",
    "    \n",
    "    Weights and representation of training grounds have a large impact \n",
    "    on the pixel classification objective of this code. \n",
    "    \n",
    "    \"\"\"\n",
    "    \n",
    "    \n",
    "    # Path to the tif image\n",
    "    raster = rootdir + imagePath\n",
    "   \n",
    "    # path to your corresponding pixel samples (training data) \n",
    "    samples = rootdir + trainingPath\n",
    "\n",
    "    # read in raster\n",
    "    img_ds = io.imread(raster)\n",
    "    \n",
    "    # convert raster to a 16-bit numpy array \n",
    "    img = np.array(img_ds, dtype='int16')\n",
    "\n",
    "    #do the same with your sample pixels \n",
    "    roi_ds = io.imread(samples)   \n",
    "    roi = np.array(roi_ds, dtype='int16')  \n",
    "  \n",
    "    # read in your labels\n",
    "    labels = np.unique(roi[roi > 0]) \n",
    "    \n",
    "    print('The training data include {n} classes: {classes}'.format(n=labels.size, classes=labels))\n",
    "\n",
    "    # compose your X,Y data (dataset - training data)     \n",
    "    X = img[roi > 0, :]\n",
    "    print(\"X\", X)\n",
    "   \n",
    "    Y = roi[roi > 0]     \n",
    "    print(\"Y\",Y)\n",
    "\n",
    "    # assign class weights (class 1 has the weight 3, etc.)\n",
    "    weights = {1:1, 2:2, 3:2, 4:3}\n",
    "\n",
    "    # build your Random Forest Classifier \n",
    "    # for more information: http://scikit-learn.org/stable/modules/generated/sklearn.ensemble.RandomForestClassifier.html\n",
    "    # n_estimators = the number of trees in the forest \n",
    "    # gotta find the sweet spot where there is not much more return based on the computation time and resources needed\n",
    "    \n",
    "    \n",
    "    rf = RandomForestClassifier(class_weight = weights, n_estimators = 8, criterion = 'gini', max_depth = 4, \n",
    "                                min_samples_split = 2, min_samples_leaf = 1, max_features = 'auto', \n",
    "                                bootstrap = True, oob_score = True, n_jobs = -1, random_state = None, verbose = True)  \n",
    "\n",
    "\n",
    "\n",
    "\n",
    "    #  now fit your training data with the original dataset\n",
    "    rf = rf.fit(X,Y)\n",
    "\n",
    "    # export your Random Forest / Gradient Boosting Model     \n",
    "    model = rootdir + modelPath\n",
    "    joblib.dump(rf, model)\n",
    "\n",
    "\n",
    "# Call the function\n",
    "training(rootdir, imagePath, trainingPath, modelPath)\n"
   ]
  },
  {
   "cell_type": "markdown",
   "metadata": {},
   "source": [
    "## Part 3. Classification"
   ]
  },
  {
   "cell_type": "code",
   "execution_count": 21,
   "metadata": {},
   "outputs": [
    {
     "name": "stdout",
     "output_type": "stream",
     "text": [
      "Stage 1\n",
      "Stage 2\n"
     ]
    },
    {
     "name": "stderr",
     "output_type": "stream",
     "text": [
      "[Parallel(n_jobs=4)]: Done   8 out of   8 | elapsed:   13.1s finished\n"
     ]
    },
    {
     "name": "stdout",
     "output_type": "stream",
     "text": [
      "Stage 3\n"
     ]
    },
    {
     "name": "stderr",
     "output_type": "stream",
     "text": [
      "/Users/colemanshepard/anaconda3/lib/python3.6/site-packages/skimage/io/_io.py:132: UserWarning: /Users/colemanshepard/Desktop/Adv Remote Sensing/Adv Remote Sensing Project with Jacob/Path_Class/newClassificationGeocomputingTest2.tif is a low contrast image\n",
      "  warn('%s is a low contrast image' % fname)\n"
     ]
    },
    {
     "name": "stdout",
     "output_type": "stream",
     "text": [
      "Stage 4\n",
      "Stage 5\n"
     ]
    }
   ],
   "source": [
    "def classification(rootdir,modelPath,imagePath, classPath):\n",
    "    \n",
    "    # Path to the tif image\n",
    "    raster = rootdir + imagePath\n",
    "    \n",
    "    # Read worldfile of original dataset\n",
    "    tfw_old = str(raster.split(\".tif\")[0]) + \".tfw\"     \n",
    "\n",
    "    # Read Data    \n",
    "    img_ds = io.imread(raster)   \n",
    "    img = np.array(img_ds, dtype='int16')    \n",
    "\n",
    "    # call your random forest model\n",
    "    rf = rootdir + modelPath          \n",
    "    clf = joblib.load(rf)    \n",
    "    print(\"Stage 1\")\n",
    "    \n",
    "    # Classification of array and save as image (23 refers to the number of multitemporal NDVI bands in the stack) \n",
    "    new_shape = (img.shape[0] * img.shape[1], img.shape[2]) \n",
    "    img_as_array = img[:, :, :7].reshape(new_shape)   \n",
    "    print(\"Stage 2\")\n",
    "    \n",
    "    # Prediction step\n",
    "    class_prediction = clf.predict(img_as_array) \n",
    "    class_prediction = class_prediction.reshape(img[:, :, 0].shape)  \n",
    "    print(\"Stage 3\")\n",
    "    \n",
    "    # now export your classificaiton\n",
    "    classification = rootdir  + classPath \n",
    "    io.imsave(classification, class_prediction)    \n",
    "    print(\"Stage 4\")\n",
    "    \n",
    "    # Assign Worldfile to classified image    \n",
    "    tfw_new = classification.split(\".tif\")[0] + \".tfw\"   \n",
    "    shutil.copy(tfw_old, tfw_new)\n",
    "    print(\"Stage 5\")\n",
    "    \n",
    "# Call the function\n",
    "classification(rootdir, modelPath, imagePath, classPath)"
   ]
  },
  {
   "cell_type": "code",
   "execution_count": null,
   "metadata": {
    "collapsed": true
   },
   "outputs": [],
   "source": []
  }
 ],
 "metadata": {
  "kernelspec": {
   "display_name": "Python 3",
   "language": "python",
   "name": "python3"
  },
  "language_info": {
   "codemirror_mode": {
    "name": "ipython",
    "version": 3
   },
   "file_extension": ".py",
   "mimetype": "text/x-python",
   "name": "python",
   "nbconvert_exporter": "python",
   "pygments_lexer": "ipython3",
   "version": "3.6.3"
  }
 },
 "nbformat": 4,
 "nbformat_minor": 2
}
