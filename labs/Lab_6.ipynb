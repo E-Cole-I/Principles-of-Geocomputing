{
 "cells": [
  {
   "cell_type": "markdown",
   "metadata": {},
   "source": [
    "# Principles of Geocomputing: Lab 6 (40 points)"
   ]
  },
  {
   "cell_type": "markdown",
   "metadata": {},
   "source": [
    "<img src=\"https://nasaviz.gsfc.nasa.gov/vis/a010000/a011500/a011591/s5-1024.jpg\"> Earth as Art- https://www.nasa.gov/connect/ebooks/earth_art_detail.html\n",
    "\n"
   ]
  },
  {
   "cell_type": "markdown",
   "metadata": {},
   "source": [
    "## Lab info and submission (1 point)"
   ]
  },
  {
   "cell_type": "markdown",
   "metadata": {},
   "source": [
    "The first section of each lab assignment should contain your name, Internet ID , and hours spent, declared using the variables below (<tt>**hoursspent**</tt> should be an <tt>**int**</tt> or a <tt>**float**</tt>, not a string). You may be asked to make use of these variables within the lab, so be careful not to overwrite their values further down.\n",
    "\n",
    "When submitting this lab in Moodle, remove unneeded sections (see \"Preparing this file for submission\") and upload to Moodle using the lab file naming convention. \n",
    "\n",
    "\n",
    "* __Standard__:&nbsp;&nbsp;&nbsp; <tt>&lt;InternetID&gt;_lab&lt;lab#&gt;.ipynb</tt>\n",
    "* __Example__:&nbsp;&nbsp;&nbsp; <tt>shepa135_lab1.ipynb</tt>"
   ]
  },
  {
   "cell_type": "code",
   "execution_count": 4,
   "metadata": {
    "collapsed": true
   },
   "outputs": [],
   "source": [
    "yourname = None\n",
    "yourintid = None\n",
    "hoursspent = None"
   ]
  },
  {
   "cell_type": "markdown",
   "metadata": {},
   "source": [
    "## Before Jumping into the Lab."
   ]
  },
  {
   "cell_type": "markdown",
   "metadata": {},
   "source": [
    "Before jumping in, grab the data from Moodle and make sure all the packages are installed. If you do not do this, the lab will be a bit more difficult. (I don’t suggest this route.) Google and the package documentation will be a good ally for this lab. \n",
    "\n",
    "This lab very similar to lab 5, but we will expand on some of the previous lab's questions. We will still primarily focus on for loops, arrays, and the raster data structure. \n",
    "\n",
    "Remember to comment the code. (Factors into grading) Think about someone reading your code that understands Python, but doesn’t know what your code is doing. Why do you use a for loop here? When do these variables get used? What does this function do? Why did I declare this variable here when it’s not used until later?\n",
    "\n",
    "\n",
    "\n",
    "<blockquote><tt>\n",
    "Packages Needed<br>\n",
    "rasterio https://mapbox.github.io/rasterio/<br>\n",
    "numpy http://www.numpy.org/\n",
    "</tt></blockquote>"
   ]
  },
  {
   "cell_type": "markdown",
   "metadata": {},
   "source": [
    "## 1. More **For** You! (9 Points)"
   ]
  },
  {
   "cell_type": "code",
   "execution_count": 1,
   "metadata": {
    "collapsed": true
   },
   "outputs": [],
   "source": [
    "# Do not delete this cell or alter it. Run this code cell. \n",
    "countries = [\"Peru\",\"United States\",\"Russia\", \"South Korea\",\"Barbados\",\"China\",\"Chile\",\"Germany\",\"Morocco\", \"Paraguay\", \"Panama\",\"Qatar\",\n",
    "             \"Thailand\",\"Japan\",\"Russia\",\"Spain\",\"China\",\"South Korea\", \"Russia\",\"South Korea\",\"South Korea\",\"Montenegro\",\"Myanmar\",\n",
    "             \"Mexico\", \"Oman\",\"Kenya\",\"Canada\",\"Haiti\",\"Georgia\",\"Jordan\", \"Israel\",\"Jamaica\", \"Japan\",\"Mauritania\",\"Moldova\",\n",
    "             \"Canada\", \"Germany\",\"Bulgaria\",\"Mozambique\",\"Zambia\",\"Peru\",\"Honduras\",\"Kuwait\",\"Nepal\", \"Malawi\",\"Lithuania\",\n",
    "             \"Peru\",\"Chile\",\"Cuba\",\"Iran\",\"Mexico\",\"Japan\",\"Kenya\",\"France\",\"Russia\",\"India\",\"Thailand\",\"Albania\",\n",
    "             \"Oman\", \"Algeria\",\"Angola\",\"Belize\",\"Bhutan\",\"Kenya\",\"Russia\",\"Russia\",\"Bolivia\",\"Brazil\",\"Chad\",\"Belgium\",\n",
    "             \"Cameroon\",\"Fiji\", \"Russia\", \"Angola\",\"Barbados\", \"Peru\", \"Bolivia\", \"United States\",\"Brazil\", \"Russia\", \"Kuwait\",\n",
    "            \"Qatar\", \"Russia\", \"Tanzania\", \"Thailand\", \"Sudan\", \"Swaziland\", \"Sweden\", \"France\", \"United Arab Emirates\"]"
   ]
  },
  {
   "cell_type": "markdown",
   "metadata": {},
   "source": [
    "Use **for** loops and the **list** above to solve the following problems. Make sure to run the cell above before moving on. "
   ]
  },
  {
   "cell_type": "markdown",
   "metadata": {},
   "source": [
    "Find the country from the **countries** list with the longest name, and print the answer."
   ]
  },
  {
   "cell_type": "code",
   "execution_count": null,
   "metadata": {
    "collapsed": true
   },
   "outputs": [],
   "source": []
  },
  {
   "cell_type": "markdown",
   "metadata": {},
   "source": [
    "Find the country from the **countries** list with the shortest name, and print the answer."
   ]
  },
  {
   "cell_type": "code",
   "execution_count": null,
   "metadata": {
    "collapsed": true
   },
   "outputs": [],
   "source": []
  },
  {
   "cell_type": "markdown",
   "metadata": {},
   "source": [
    "Sort the list in reverse alphabetical order, and print each country on each line.  *(Hint: Python has several built-in methods for lists)*"
   ]
  },
  {
   "cell_type": "code",
   "execution_count": null,
   "metadata": {
    "collapsed": true
   },
   "outputs": [],
   "source": []
  },
  {
   "cell_type": "markdown",
   "metadata": {},
   "source": [
    "Find and print which country from the countries list shows up the most. "
   ]
  },
  {
   "cell_type": "code",
   "execution_count": null,
   "metadata": {
    "collapsed": true
   },
   "outputs": [],
   "source": []
  },
  {
   "cell_type": "markdown",
   "metadata": {},
   "source": [
    "## 3. Arrays in Numpy (10 pts)"
   ]
  },
  {
   "cell_type": "markdown",
   "metadata": {},
   "source": [
    "Numpy is a fundamental package in Python that supports arrays and matrices. This package is an alternative in dealing with rasters, but there are a plethora of uses! Visit http://www.numpy.org/ to learn more about this neat package!"
   ]
  },
  {
   "cell_type": "code",
   "execution_count": 2,
   "metadata": {
    "collapsed": true
   },
   "outputs": [],
   "source": [
    "# Do not delete or alter the code. Run this code cell.\n",
    "import numpy as np\n",
    "\n",
    "nestedList1 = [[1,2,5,423],[3234,5,6,312],[9440,5234,324,8],[64,1,7,0]]\n",
    "nestedList2 = [[81,9,422,27],[72,123,33,46],[31,10,11,9],[17,119,14,90]]"
   ]
  },
  {
   "cell_type": "markdown",
   "metadata": {},
   "source": [
    "Import **numpy** and convert the nested lists above into numpy arrays."
   ]
  },
  {
   "cell_type": "code",
   "execution_count": null,
   "metadata": {
    "collapsed": true
   },
   "outputs": [],
   "source": []
  },
  {
   "cell_type": "markdown",
   "metadata": {},
   "source": [
    "Find and print the shape of each numpy array. *(Numpy may have a method for this)*"
   ]
  },
  {
   "cell_type": "code",
   "execution_count": null,
   "metadata": {
    "collapsed": true
   },
   "outputs": [],
   "source": []
  },
  {
   "cell_type": "markdown",
   "metadata": {},
   "source": [
    "Now that the nested lists are arrays in numpy, add them together! Print the result. *(Hint: Similar to adding lists together)*\n"
   ]
  },
  {
   "cell_type": "code",
   "execution_count": null,
   "metadata": {
    "collapsed": true
   },
   "outputs": [],
   "source": []
  },
  {
   "cell_type": "markdown",
   "metadata": {},
   "source": [
    "That's pretty neat! Now divide the array associated with nestedList2 by the array associated with nestList1. Print the result. Additionally, comment what is happening and/or if something seems unusual."
   ]
  },
  {
   "cell_type": "code",
   "execution_count": null,
   "metadata": {
    "collapsed": true
   },
   "outputs": [],
   "source": []
  },
  {
   "cell_type": "markdown",
   "metadata": {},
   "source": [
    "In versions 1.7+ of numpy, you can take advantage of a **where** option where you may specify if the division should be carried out depending on cell values. This can be included in numpy's division function. You do not have to do anything with this, but keep it in mind for the future."
   ]
  },
  {
   "cell_type": "markdown",
   "metadata": {},
   "source": [
    "## 2. Raster Master (*In Progress*) (20 Points Total)"
   ]
  },
  {
   "cell_type": "markdown",
   "metadata": {},
   "source": [
    "Welcome back! We will continue to build off some of the things we were introduced to in lab 5. (Use the same data) In lab 5, we were mostly using some of rasterio's built in operations. Obviously this is neat, but there is so much more that can be done. We will be using rasterio in this portion of the lab, but I encourage you to play around with numpy on your own! Hopefully the introduction and the documentation give you a place to start. As you think about our 2D raster, if things start to make sense, think about how a 3D raster may be stored as data in Python. Don't worry, we won't be working with any 3D data yet! In the cells below, use some of your skills that you picked up in lab 5 to complete the rest of the lab. \n",
    "\n",
    "\n",
    "\n",
    "\n",
    "\n",
    "FROM LAB 5:<br>\n",
    "The imagery dataset is a Landsat .tif image that downloaded from USGS. The raster data structure consists of an array of cells. (Similar to a nested list) Each cell in a raster represents a pixel value which portrays that portion of the landscape. Landsat's resolution is 30 meters, so each cell represents a 30 x 30 square on the Earth. What does this mean? The resolution of Landsat imagery is rather coarse when compared to other imagery such as Sentinel, PlanetScope, or RapidEye. This isn't always bad! Sometimes, people want to study global trends in agriculture, forest, etc where Landsat is very appropriate. (And it's free!) We are using Landsat 5, but there is a number of other Landsat satellites. (RIP Landsat 6) Landsat 9 is set to be launched in 2020! As the resolution of imagery increases, the data increases as well. For example, if you're using 1,000 images in a project, this is something that you should pay attention to. At the beginning of the lab, there is a picture of two Dove Satellites. These are considered Cubesats which are changing the landscape of remote sensing and GIS. For more information about this, read this https://www.nasa.gov/mission_pages/cubesats/overview. The problem then shifts from having a limited amount of imagery to having too much! (Kind of) But that's where coders, such as yourself, come into play. \n",
    "\n",
    "\n",
    "In this course, we won't talk a whole lot about the science of remote sensing. Our objective is to have you understand and work with this type of data. If you want to learn more about remote sensing, consider taking a course with Professor Joe Knight. In this lab, we use rasterio, but this is not the only package that can be used for this type of thing.(numpy is another popular package for arrays.)\n",
    "\n",
    "\n",
    "For the future (Not needed in this lab!), a good spot to find free imagery is Earth Explorer. https://earthexplorer.usgs.gov/ You will need to make an account, but you get access to the Landsat archive as well as other imagery. They even have a Python script to download a lot of imagery at once, or what is referred to as a batch download. Here, you may get a GeoTiff with 7 separate layers if downloading Landsat. (One for each band) You may want to use numpy if you're staying in Python or need to do it for many images. For testing, the Composite Bands (Data Management) tool in ArcGIS can also be of assistance. \n",
    "\n",
    "\n",
    "< Warning >\n",
    "This lab uses modules not included in the default Python set. See Anaconda Navigator to make alterations. Make sure you are able to import the modules."
   ]
  },
  {
   "cell_type": "code",
   "execution_count": 3,
   "metadata": {
    "collapsed": true
   },
   "outputs": [],
   "source": [
    "# Do not delete this. Run this code.\n",
    "\n",
    "import rasterio\n",
    "from rasterio import plot"
   ]
  },
  {
   "cell_type": "markdown",
   "metadata": {},
   "source": [
    "## 2A. Introduction (5 pts)"
   ]
  },
  {
   "cell_type": "markdown",
   "metadata": {},
   "source": [
    "With the modules imported, assign a variable to the **.tif** file downloaded from Moodle. Store the **.tif** image in the same directory as your Jupyter Notebook. Assign the image path with a string. Use the rasterio to \"open\" the image. \n",
    "\n",
    "For example <br>\n",
    "rast = rasterio.open(tifFile)"
   ]
  },
  {
   "cell_type": "code",
   "execution_count": null,
   "metadata": {
    "collapsed": true
   },
   "outputs": [],
   "source": []
  },
  {
   "cell_type": "markdown",
   "metadata": {
    "collapsed": true
   },
   "source": [
    "Lets take a look at the image. Using matplotlib **plot.show()** command, display the image below. The **cmap** allows the user to change the color ramp of the image. "
   ]
  },
  {
   "cell_type": "code",
   "execution_count": null,
   "metadata": {
    "collapsed": true
   },
   "outputs": [],
   "source": []
  },
  {
   "cell_type": "markdown",
   "metadata": {},
   "source": [
    "## 2B. NDVI (Normalized difference vegetation index) (15 Points)"
   ]
  },
  {
   "cell_type": "markdown",
   "metadata": {},
   "source": [
    "The normalized difference vegetation index (NDVI) is a indicator that can be used to assess whether an target contains live green vegetation. This is a popular index in the field of remote sensing. NDVI has applications across a number of domains. Nasa has a page on their website that goes more in depth. Locate information about calculating NDVI and other indicies with USGS Product Guide https://landsat.usgs.gov/sites/default/files/documents/si_product_guide.pdf "
   ]
  },
  {
   "cell_type": "markdown",
   "metadata": {},
   "source": [
    "Before we move on to calculating indexes, we need to create separate variables for each band. In the cell below, create variables for each of the bands. "
   ]
  },
  {
   "cell_type": "code",
   "execution_count": 34,
   "metadata": {
    "collapsed": true
   },
   "outputs": [],
   "source": [
    "# Example band# = raster.read(#)"
   ]
  },
  {
   "cell_type": "markdown",
   "metadata": {},
   "source": [
    "In the cell below, calculate ndvi by using the NDVI. (Band 3 and 4 should be used for calculation) This calculation may introduce some no data values. \n",
    "\n",
    "<img src=\"https://maxmax.com/Old_Web/images/Cameras/NDVI/NDVI_Traditional_Formula.jpg\">"
   ]
  },
  {
   "cell_type": "code",
   "execution_count": null,
   "metadata": {
    "collapsed": true
   },
   "outputs": [],
   "source": []
  },
  {
   "cell_type": "markdown",
   "metadata": {},
   "source": [
    "## Additional Practice (Not Graded)"
   ]
  },
  {
   "cell_type": "markdown",
   "metadata": {
    "collapsed": true
   },
   "source": [
    "## Normalized Burn Ratio (NBR)"
   ]
  },
  {
   "cell_type": "markdown",
   "metadata": {
    "collapsed": true
   },
   "source": [
    "The Normalized Burn ratio (NBR) is an index that is designed to hightlight burned areas within a landscape. This index is similar to NDVI, but NBR uses near infrared (NIR) and shortwave infrared (SWIR) wavelengths. \n",
    "\n",
    "In the cell below, calculate the Normalized Burn Ratio (NBR) for our Landsat tif image."
   ]
  },
  {
   "cell_type": "code",
   "execution_count": null,
   "metadata": {
    "collapsed": true
   },
   "outputs": [],
   "source": []
  },
  {
   "cell_type": "markdown",
   "metadata": {
    "collapsed": true
   },
   "source": [
    "Lets take a look at the NBR image. Plot the image using matplotlib. \n"
   ]
  },
  {
   "cell_type": "code",
   "execution_count": null,
   "metadata": {
    "collapsed": true
   },
   "outputs": [],
   "source": []
  },
  {
   "cell_type": "markdown",
   "metadata": {},
   "source": [
    "Quick Note. Band math is nice because rasters line up perfectly with each other. Think about what happens when you are working with two or more rasters that don't perfectly line up with each other!"
   ]
  }
 ],
 "metadata": {
  "kernelspec": {
   "display_name": "Python 3",
   "language": "python",
   "name": "python3"
  },
  "language_info": {
   "codemirror_mode": {
    "name": "ipython",
    "version": 3
   },
   "file_extension": ".py",
   "mimetype": "text/x-python",
   "name": "python",
   "nbconvert_exporter": "python",
   "pygments_lexer": "ipython3",
   "version": "3.6.3"
  }
 },
 "nbformat": 4,
 "nbformat_minor": 2
}
