{
 "cells": [
  {
   "cell_type": "markdown",
   "metadata": {},
   "source": [
    "# Principles of Geocomputing: Lab 4 (50 points)"
   ]
  },
  {
   "cell_type": "markdown",
   "metadata": {},
   "source": [
    "## 1. Lab info and submission (1 point)"
   ]
  },
  {
   "cell_type": "markdown",
   "metadata": {},
   "source": [
    "The first section of each lab assignment should contain your name, Internet ID , and hours spent, declared using the variables below (<tt>**hoursspent**</tt> should be an <tt>**int**</tt> or a <tt>**float**</tt>, not a string). You may be asked to make use of these variables within the lab, so be careful not to overwrite their values further down.\n",
    "\n",
    "When submitting this lab in Moodle, remove unneeded sections (see \"Preparing this file for submission\") and upload to Moodle using the lab file naming convention. \n",
    "\n",
    "\n",
    "* __Standard__:&nbsp;&nbsp;&nbsp; <tt>&lt;InternetID&gt;_lab&lt;lab#&gt;.ipynb</tt>\n",
    "* __Example__:&nbsp;&nbsp;&nbsp; <tt>shepa135_lab1.ipynb</tt>"
   ]
  },
  {
   "cell_type": "code",
   "execution_count": 2,
   "metadata": {
    "collapsed": true
   },
   "outputs": [],
   "source": [
    "yourname = None\n",
    "yourintid = None\n",
    "hoursspent = None"
   ]
  },
  {
   "cell_type": "markdown",
   "metadata": {},
   "source": [
    "## Preparing this file for submission\n",
    "\n",
    "Before submitting this lab in Moodle, remove all cells that are not:\n",
    "\n",
    "* the assignment title,\n",
    "* your name, Internet ID, and hours spent,\n",
    "* numbered question headings (e.g., “1. Demonstrate how to…”),\n",
    "* code cells (provided in the lab and your additions),\n",
    "* your own comments in markdown (# comments in code cells are OK), or\n",
    "* cells you're explicity told to keep.\n",
    "\n",
    "For example, this cell and the \"Preparing this file for submission\" cell should be deleted."
   ]
  },
  {
   "cell_type": "markdown",
   "metadata": {},
   "source": [
    "## Before Jumping into the Lab."
   ]
  },
  {
   "cell_type": "markdown",
   "metadata": {},
   "source": [
    "This lab primarly will deal with creating functions. Remember that there is a difference between **print()** and **return**. Also, remember that commenting factors into the grading process. Comments are not needed on every line, but are necessary."
   ]
  },
  {
   "cell_type": "markdown",
   "metadata": {},
   "source": [
    "## 1.Global vs Local Variables (3pts)"
   ]
  },
  {
   "cell_type": "markdown",
   "metadata": {},
   "source": [
    "Python uses Global and Local variables. Global variables can called on throughout your code. Local variables are usually confined to functions. A variable defined in a function will not have a affect on other variables outside of the function. See this for more information https://www.python-course.eu/python3_global_vs_local_variables.php  Ue comments to state which variable(s) are global and which variable(s) are local. "
   ]
  },
  {
   "cell_type": "code",
   "execution_count": 7,
   "metadata": {
    "collapsed": false
   },
   "outputs": [
    {
     "name": "stdout",
     "output_type": "stream",
     "text": [
      "1\n"
     ]
    }
   ],
   "source": [
    "x = 1\n",
    "\n",
    "def add_to_x(y):\n",
    "    x = 1\n",
    "    x += y\n",
    "\n",
    "add_to_x(45)\n",
    "print(x)"
   ]
  },
  {
   "cell_type": "markdown",
   "metadata": {},
   "source": [
    "## 2. Write a function that concatenates two strings (4 pts)"
   ]
  },
  {
   "cell_type": "markdown",
   "metadata": {},
   "source": [
    "Define a function named **concat_strings** that takes **two arguments** (Strings), concatenates them, and **returns** the concatenated value.  "
   ]
  },
  {
   "cell_type": "code",
   "execution_count": 7,
   "metadata": {
    "collapsed": true
   },
   "outputs": [],
   "source": []
  },
  {
   "cell_type": "markdown",
   "metadata": {},
   "source": [
    "## 3. Pythagorean theorem for a leg (4 pts)"
   ]
  },
  {
   "cell_type": "markdown",
   "metadata": {},
   "source": [
    "Define a function **calc_leg** that takes two arguments, the length of one leg and the length of the hypotenuse. **return** and **print** the length of the unknown leg."
   ]
  },
  {
   "cell_type": "code",
   "execution_count": 10,
   "metadata": {
    "collapsed": true
   },
   "outputs": [],
   "source": []
  },
  {
   "cell_type": "markdown",
   "metadata": {},
   "source": [
    "## 4. Right-triangle calculator (5pts)"
   ]
  },
  {
   "cell_type": "markdown",
   "metadata": {},
   "source": [
    "Here you'll build a calculator to return the length of an unknown edge (hypotenuse or leg) of a right triangle given the lengths of two known edges. You've already defined <tt>calc_hypotenuse</tt> and <tt>calc_leg</tt>, which you'll need to call from within your function\n",
    "\n",
    "Define a function named <tt>triangle_calc</tt> that takes three arguments (below) and returns the length of the unknown edge.\n",
    "\n",
    "* First argument: Expects an \"h\" or an \"l\", to indicate if the length to be calculated is that for an unknown hypotenuse (\"h\") or an unknown leg (\"l\")\n",
    "* Second argument: The length of a known leg\n",
    "* Third argument: The length of the other known leg or the length of the known hypotenuse\n",
    "\n",
    "Your function needs to evaluate the first argument and choose between your <tt>calc_hypotenuse</tt> and <tt>calc_leg</tt> function to call to get the result (hint: it's a conditional).\n",
    "\n",
    "<blockquote><tt>\n",
    "triangle_calc(\"h\", 3, 4)  # returns 5, the length of the hypotenuse<br>\n",
    "triangle_calc(\"l\", 3, 5)  # returns 4, the length of the unknown leg<br>\n",
    "triangle_calc(\"l\", 4, 5)  # returns 3, the length of the unknown leg\n",
    "</tt></blockquote>"
   ]
  },
  {
   "cell_type": "code",
   "execution_count": null,
   "metadata": {
    "collapsed": true
   },
   "outputs": [],
   "source": []
  },
  {
   "cell_type": "markdown",
   "metadata": {},
   "source": [
    "## 5. Right-triangle calculator with user input (8 pts)"
   ]
  },
  {
   "cell_type": "markdown",
   "metadata": {},
   "source": [
    "Now, define a function <tt>triangle_calc_input</tt>. This function is similar to what you wrote in the previous question, except it takes no arguments and prompts the user for input. The text to use when prompting for input is show below, along with same input and output. \n",
    "\n",
    "Remember to apply principles and best practices to your work.\n",
    "\n",
    "<blockquote><tt>\n",
    "triangle_calc_input()<br>\n",
    "Determine the length of the hypotenuse or a leg? (h/l) h<br>\n",
    "Length of first leg? 3<br>\n",
    "Length of second leg? 4<br>\n",
    "Hypotenuse length: 5.0\n",
    "</tt></blockquote>\n",
    "\n",
    "<blockquote><tt>\n",
    "triangle_calc_input()<br>\n",
    "Determine the length of the hypotenuse or a leg? (h/l) l<br>\n",
    "Length of leg? 4<br>\n",
    "Length of hypotenuse? 5<br>\n",
    "Leg length: 3.0\n",
    "</tt></blockquote>"
   ]
  },
  {
   "cell_type": "code",
   "execution_count": null,
   "metadata": {
    "collapsed": true
   },
   "outputs": [],
   "source": []
  },
  {
   "cell_type": "markdown",
   "metadata": {},
   "source": [
    "## 6.  Is it an integer? (5 pts)"
   ]
  },
  {
   "cell_type": "markdown",
   "metadata": {},
   "source": [
    "Define a function **is_int** that takes a single argument. Your function should return <tt>True</tt> if the type of the argument is <tt>int</tt>, otherwise the function should return <tt>False</tt>. Conditionals and the type() statemnet could be helpful in this problem. \n",
    "\n",
    "<blockquote><tt>\n",
    "is_int(5) # returns True<br>\n",
    "is_int(-1) # returns True<br>\n",
    "is_int(5.0) # returns False<br>\n",
    "is_int(\"5\") # returns False\n",
    "</tt></blockquote>"
   ]
  },
  {
   "cell_type": "code",
   "execution_count": 12,
   "metadata": {
    "collapsed": true
   },
   "outputs": [],
   "source": []
  },
  {
   "cell_type": "markdown",
   "metadata": {},
   "source": [
    "## 7. A function for Euclidean distance (20 pts)"
   ]
  },
  {
   "cell_type": "markdown",
   "metadata": {},
   "source": [
    "Construct a function named **calc_euclidean** that takes four arguments (x,y values for two points, order x<sub>1</sub>, y<sub>1</sub>, x<sub>2</sub>, y<sub>2</sub>) and _returns_ the Euclidean distance between the two points."
   ]
  },
  {
   "cell_type": "code",
   "execution_count": 75,
   "metadata": {
    "collapsed": true
   },
   "outputs": [],
   "source": []
  },
  {
   "cell_type": "markdown",
   "metadata": {},
   "source": [
    "Now that a function is created, let's compare some distances. Rather than rewriting the code, call on the calc_euclidean to find the distances. Calculate the distance between each city, and then add it to a single list. ** .append() ** may be useful in this case.\n",
    "\n",
    "<blockquote><tt>\n",
    "Budapest, Hungary (47.4979, 19.0402)<br>\n",
    "Vienna, Austria (48.210033, 16.363449)<br>\n",
    "Sofia, Bulgaria (42.6977, 23.3219)<br>\n",
    "Zagreb, Croatia (45.8150, 15.9819)\n",
    "</tt></blockquote>"
   ]
  },
  {
   "cell_type": "code",
   "execution_count": null,
   "metadata": {
    "collapsed": true
   },
   "outputs": [],
   "source": []
  },
  {
   "cell_type": "markdown",
   "metadata": {},
   "source": [
    "Now, find the shortest and longest distance in between the all of the cities. Print the result out. "
   ]
  },
  {
   "cell_type": "code",
   "execution_count": 12,
   "metadata": {
    "collapsed": true
   },
   "outputs": [],
   "source": []
  },
  {
   "cell_type": "markdown",
   "metadata": {},
   "source": [
    "## Additional Practice (Not Counted for Credit)"
   ]
  },
  {
   "cell_type": "markdown",
   "metadata": {},
   "source": [
    "## While.... "
   ]
  },
  {
   "cell_type": "markdown",
   "metadata": {},
   "source": [
    "While loops are an important tool when writing Python. You will encounter while and for loops in Python. A **while** loop repeatedly executes a target statement as long as the condition is true. For more information regarding **while** loops see https://www.tutorialspoint.com/python/python_while_loop.htm and chapter 5 in Python for Everybody. "
   ]
  },
  {
   "cell_type": "code",
   "execution_count": 1,
   "metadata": {
    "collapsed": false
   },
   "outputs": [
    {
     "name": "stdout",
     "output_type": "stream",
     "text": [
      "Counter = 0\n",
      "Counter = 1\n",
      "Counter = 2\n"
     ]
    }
   ],
   "source": [
    "counter = 0\n",
    "\n",
    "# While loop executes as long as the conditional remains True.\n",
    "while counter <= 2:\n",
    "    \n",
    "    # Simple print() statement\n",
    "    print(\"Counter = %s\"%counter)\n",
    "    \n",
    "    # Increments the counter variable\n",
    "    counter +=1"
   ]
  },
  {
   "cell_type": "markdown",
   "metadata": {},
   "source": [
    "Below write a function named **blast_off** that takes in one argument and uses a **while** loop. The function will take in an integer as its argument and count down from that integer until it hits 1. Then the function prints **Blast off!!**. "
   ]
  },
  {
   "cell_type": "code",
   "execution_count": null,
   "metadata": {
    "collapsed": true
   },
   "outputs": [],
   "source": []
  },
  {
   "cell_type": "markdown",
   "metadata": {},
   "source": [
    "## More Euclidean Distance"
   ]
  },
  {
   "cell_type": "markdown",
   "metadata": {},
   "source": [
    "Use the Euclidean Distance problem above, but find the shortest path if you wanted to travel to all the cities starting in Sofia, Bulgaria. It may seem simple at the start, but consider adding more cities. How does it make it more complicated? Play around with this."
   ]
  },
  {
   "cell_type": "code",
   "execution_count": null,
   "metadata": {
    "collapsed": true
   },
   "outputs": [],
   "source": []
  },
  {
   "cell_type": "markdown",
   "metadata": {},
   "source": [
    "## Downloading from the Web."
   ]
  },
  {
   "cell_type": "markdown",
   "metadata": {},
   "source": [
    "Some people asked about downloading data from online, so here is a simple example. The request module allows a user to request information online. See documentation here http://docs.python-requests.org/en/master/ Feel free to play around with other datasets because this allows you to automically download the most recent dataset if it's updated frequently like police reports. "
   ]
  },
  {
   "cell_type": "code",
   "execution_count": null,
   "metadata": {
    "collapsed": false
   },
   "outputs": [],
   "source": [
    "# import the wget module (Use \"pip install wget\" in anaconda prompt)\n",
    "import wget\n",
    "\n",
    "\n",
    "# Assign the url variable to dataset found online\n",
    "# One can use string formatting to download large amounts of data.\n",
    "url = \"https://data.seattle.gov/api/views/mg5r-efcm/rows.csv?accessType=DOWNLOAD\"\n",
    "\n",
    "# Request the information/dataset using the module. \n",
    "Data = wget.download(url)\n",
    "Data"
   ]
  }
 ],
 "metadata": {
  "anaconda-cloud": {},
  "kernelspec": {
   "display_name": "Python [default]",
   "language": "python",
   "name": "python3"
  },
  "language_info": {
   "codemirror_mode": {
    "name": "ipython",
    "version": 3
   },
   "file_extension": ".py",
   "mimetype": "text/x-python",
   "name": "python",
   "nbconvert_exporter": "python",
   "pygments_lexer": "ipython3",
   "version": "3.5.2"
  }
 },
 "nbformat": 4,
 "nbformat_minor": 2
}
