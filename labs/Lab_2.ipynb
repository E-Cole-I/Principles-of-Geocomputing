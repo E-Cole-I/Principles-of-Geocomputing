{
 "cells": [
  {
   "cell_type": "markdown",
   "metadata": {},
   "source": [
    "# Principles of Geocomputing: Lab 2B (35 points)"
   ]
  },
  {
   "cell_type": "markdown",
   "metadata": {},
   "source": [
    "## 1. Lab info and submission (1 point)"
   ]
  },
  {
   "cell_type": "markdown",
   "metadata": {},
   "source": [
    "The first section of each lab assignment should contain your name, Internet ID , and hours spent, declared using the variables below (<tt>**hoursspent**</tt> should be an <tt>int</tt> or a <tt>**float**</tt>, not a string). You may be asked to make use of these variables within the lab, so be careful not to overwrite their values further down.\n",
    "\n",
    "When submitting this lab in Moodle, purge the unneeded sections (see \"Preparing this file for submission\") and upload to Moodle using the lab file.\n",
    "\n",
    "\n",
    "* __Standard__:&nbsp;&nbsp;&nbsp; <tt>&lt;InternetID&gt;_lab&lt;lab#&gt;.ipynb</tt>\n",
    "* __Example__:&nbsp;&nbsp;&nbsp; <tt>user1234_lab2.ipynb</tt>"
   ]
  },
  {
   "cell_type": "code",
   "execution_count": 1,
   "metadata": {
    "collapsed": true
   },
   "outputs": [],
   "source": [
    "yourname = None\n",
    "yourintid = None\n",
    "hoursspent = None"
   ]
  },
  {
   "cell_type": "markdown",
   "metadata": {},
   "source": [
    "## Preparing this file for submission\n",
    "\n",
    "Before submitting this lab in Moodle, remove all cells that are not:\n",
    "\n",
    "* the assignment title,\n",
    "* your name, Internet ID, and hours spent,\n",
    "* numbered question headings (e.g., “1. Demonstrate how to…”),\n",
    "* code cells (provided in the lab and your additions),\n",
    "* your own comments in markdown (# comments in code cells are OK), or\n",
    "* cells you're explicity told to keep.\n",
    "\n",
    "For example, this cell and the \"Preparing this file for submission\" cell should be deleted."
   ]
  },
  {
   "cell_type": "markdown",
   "metadata": {},
   "source": [
    "#### *Note: Remember to comment your code! This will affect your grade*"
   ]
  },
  {
   "cell_type": "markdown",
   "metadata": {},
   "source": [
    "## 2. Commenting in Python (2 Points)\n"
   ]
  },
  {
   "cell_type": "markdown",
   "metadata": {},
   "source": [
    "Commeting in Python can either be done with a **#** or by using triple quotes such as **\"\"\" This is a comment\"\"\"\"**. The triple quotes are used for multi-line comments. Within a comment, write why comments are important in coding.  "
   ]
  },
  {
   "cell_type": "code",
   "execution_count": null,
   "metadata": {},
   "outputs": [],
   "source": []
  },
  {
   "cell_type": "markdown",
   "metadata": {},
   "source": [
    "## 3. More About Comments (6 Points)"
   ]
  },
  {
   "cell_type": "markdown",
   "metadata": {},
   "source": [
    "Below are some prompts with Python code. The objective of this exercise is to follow along and **comment** what is going on at each step in your own words. \n",
    "\n",
    "* <i> Note: You only need to comment the code.</i>"
   ]
  },
  {
   "cell_type": "code",
   "execution_count": 17,
   "metadata": {},
   "outputs": [
    {
     "name": "stdout",
     "output_type": "stream",
     "text": [
      "x = 4 , y = 6 , z = 7\n"
     ]
    }
   ],
   "source": [
    "x = 5\n",
    "y = 2\n",
    "z = 4\n",
    "\n",
    "x = x - 1\n",
    "y = x - y + z\n",
    "z = z + 3\n",
    "print(\"x =\", x,\", y =\", y,\", z =\",z)"
   ]
  },
  {
   "cell_type": "code",
   "execution_count": 16,
   "metadata": {},
   "outputs": [
    {
     "name": "stdout",
     "output_type": "stream",
     "text": [
      "('Central Standard Time', 'Central Daylight Time')\n"
     ]
    }
   ],
   "source": [
    "import time\n",
    "\n",
    "dir(time)\n",
    "timeZone = time.tzname\n",
    "print(timeZone)\n"
   ]
  },
  {
   "cell_type": "markdown",
   "metadata": {},
   "source": [
    "You want to get a haircut, but need some help calculating a total cost with a tip and tax included. After much thought, you remember that you already wrote a Python script to do this. The only problem is that you forgot what you did, and you now need to comment the script to understand what is going on. Follow along and **comment** what is happening at each step. \n",
    "\n",
    "\n",
    "* **Cost of the Haircut:** $19.87\n",
    "* **Tax: **  4.3%\n",
    "* **Tip: **  20%\n"
   ]
  },
  {
   "cell_type": "code",
   "execution_count": 18,
   "metadata": {},
   "outputs": [
    {
     "name": "stdout",
     "output_type": "stream",
     "text": [
      "The total price of the haircut is 24.869292 dollars.\n"
     ]
    }
   ],
   "source": [
    "hairCut = 19.87\n",
    "tax = 4.3/100\n",
    "tip = 20/100\n",
    "\n",
    "hairCutTax = hairCut * tax\n",
    "hairCut = hairCutTax + hairCut\n",
    "totalTip = hairCut * tip\n",
    "totalPrice = totalTip + hairCut\n",
    "print(\"The total price of the haircut is\", totalPrice, \"dollars.\")"
   ]
  },
  {
   "cell_type": "markdown",
   "metadata": {},
   "source": [
    "## 4. True or False? (Boolean Expressions) (5 points)\n"
   ]
  },
  {
   "cell_type": "markdown",
   "metadata": {},
   "source": [
    "For the following questions, alter the code to output either True or False. **Comment** what you have changed.  If you need a refresher on this topic, please consult **Python for Everybody**. \n"
   ]
  },
  {
   "cell_type": "markdown",
   "metadata": {},
   "source": [
    "Alter the code to output **True** when it's run.\n"
   ]
  },
  {
   "cell_type": "code",
   "execution_count": 5,
   "metadata": {},
   "outputs": [
    {
     "data": {
      "text/plain": [
       "False"
      ]
     },
     "execution_count": 5,
     "metadata": {},
     "output_type": "execute_result"
    }
   ],
   "source": [
    "88 and False"
   ]
  },
  {
   "cell_type": "markdown",
   "metadata": {},
   "source": [
    "Alter the code to output **False** when it's run."
   ]
  },
  {
   "cell_type": "code",
   "execution_count": 7,
   "metadata": {},
   "outputs": [
    {
     "data": {
      "text/plain": [
       "True"
      ]
     },
     "execution_count": 7,
     "metadata": {},
     "output_type": "execute_result"
    }
   ],
   "source": [
    "110 != 111"
   ]
  },
  {
   "cell_type": "markdown",
   "metadata": {},
   "source": [
    "Alter this code to output **True** when it's run."
   ]
  },
  {
   "cell_type": "code",
   "execution_count": 8,
   "metadata": {},
   "outputs": [
    {
     "data": {
      "text/plain": [
       "False"
      ]
     },
     "execution_count": 8,
     "metadata": {},
     "output_type": "execute_result"
    }
   ],
   "source": [
    "\"Python\" == \"Java\" and 52 <= 46"
   ]
  },
  {
   "cell_type": "markdown",
   "metadata": {},
   "source": [
    "Alter the code to output **False** when it's run."
   ]
  },
  {
   "cell_type": "code",
   "execution_count": 10,
   "metadata": {},
   "outputs": [
    {
     "data": {
      "text/plain": [
       "True"
      ]
     },
     "execution_count": 10,
     "metadata": {},
     "output_type": "execute_result"
    }
   ],
   "source": [
    "(3 + 5 + 7)/13 <= 3 % 4"
   ]
  },
  {
   "cell_type": "markdown",
   "metadata": {},
   "source": [
    "Alter the code to output **True** when it's run."
   ]
  },
  {
   "cell_type": "code",
   "execution_count": 15,
   "metadata": {},
   "outputs": [
    {
     "data": {
      "text/plain": [
       "False"
      ]
     },
     "execution_count": 15,
     "metadata": {},
     "output_type": "execute_result"
    }
   ],
   "source": [
    "\"Python is the best!\" != False and \"I wouldn't want to do anything else!\" == True or \"A\"== \"B\""
   ]
  },
  {
   "cell_type": "markdown",
   "metadata": {},
   "source": [
    "## Introducing the <tt>**Math**</tt> Module\n",
    "\n",
    "For the next questions, we need to make use of &pi;. Instead of declaring a variable and rounding &pi; to something like <tt>**pi**=3.14159</tt>, we'll <tt>**import math**</tt> and use its constant for &pi;. Constants are similar to variables in that they have a value attached to name, but the difference is in the name: constants don't vary as variables can. Constants represent values and like other values constants have types.\n",
    "\n",
    "The cell below first imports the <tt>**math**</tt> module, then accesses the constant as <tt>**math.pi**</tt>."
   ]
  },
  {
   "cell_type": "code",
   "execution_count": 9,
   "metadata": {},
   "outputs": [
    {
     "name": "stdout",
     "output_type": "stream",
     "text": [
      "Math modules provides math.pi as: 3.141592653589793\n",
      "<class 'float'>\n",
      "2*pi = 6.283185307179586\n"
     ]
    }
   ],
   "source": [
    "import math\n",
    "print(\"Math modules provides math.pi as:\", math.pi)\n",
    "print(type(math.pi))\n",
    "print(\"2*pi =\", 2 * math.pi)"
   ]
  },
  {
   "cell_type": "markdown",
   "metadata": {},
   "source": [
    "## 5. Calculate the Circumference of a Circle (10 Points)"
   ]
  },
  {
   "cell_type": "markdown",
   "metadata": {},
   "source": [
    "Recall that the circumference of a circle can be found with this equation: _C_=2&pi;_r_. Set a variable named <tt>**circleCir**</tt> to be the circumference of a circle with a radius of 80\". Construct a <tt>**print**</tt> statement using that variable that outputs the following\n",
    "\n",
    "<blockquote>A circle with a radius of 80 inches has an circumference of 502.6548245743669 inches.</blockquote>"
   ]
  },
  {
   "cell_type": "code",
   "execution_count": null,
   "metadata": {},
   "outputs": [],
   "source": []
  },
  {
   "cell_type": "markdown",
   "metadata": {},
   "source": [
    "##  6. Print your result more neatly (5 points)\n",
    "Often, we don't want to display data with lots of significant digits. We'll make use of the <tt>**round**</tt> function for this. First, check out the [docs for the <tt>round</tt> function](https://docs.python.org/3/library/functions.html#round).\n",
    "\n",
    "Use the same print format as the previous question, but print the value of <tt>**circleCir**</tt> rounded to the nearest hundredth of a square inch in the output.\n",
    "\n",
    "Hint: A function that _returns_ a value can be used as a parameter in another function. The <tt>**print**</tt> function doesn't return the printed value, it prints it. The <tt>**round**</tt> function returns a rounded number. For instance, if you have a variable (call it <tt>**somedata**</tt>) and a function (<tt>**myfunc**</tt>) that manipulates that data passed into it and _returns_ that manipulated data, you can call your function directly in another function, e.g.,\n",
    "\n",
    "    print(\"Processed data=\", myfunc(somedata))\n",
    "    \n",
    "There is no need to declare a variable to hold the value of your processed data, as shown below.\n",
    "\n",
    "    procdata = myfunc(somedata)\n",
    "    print(\"Processed data=\", procdata)"
   ]
  },
  {
   "cell_type": "code",
   "execution_count": null,
   "metadata": {},
   "outputs": [],
   "source": []
  },
  {
   "cell_type": "markdown",
   "metadata": {},
   "source": [
    "## 7. Manual Input (6 Points) "
   ]
  },
  {
   "cell_type": "markdown",
   "metadata": {},
   "source": [
    "Use the **input()** function in Python to ask a question about Python that you're curious about or don't understand. The question is completely up to you, so just worry about how the **input()** function operates. For more information about the function, see [docs for the <tt>input</tt> function](https://docs.python.org/3/library/functions.html#input)."
   ]
  },
  {
   "cell_type": "code",
   "execution_count": null,
   "metadata": {},
   "outputs": [],
   "source": []
  },
  {
   "cell_type": "markdown",
   "metadata": {
    "collapsed": true
   },
   "source": [
    "##  Addtional Practice - Calculate the Area of a Circle (Not for Credit)"
   ]
  },
  {
   "cell_type": "markdown",
   "metadata": {},
   "source": [
    "Recall that the area of a circle can be found with this equation: _a_=&pi;_r_<sup>2</sup>. Set a variable named <tt>**circlearea**</tt> to be the area of a circle of radius 6\". Construct a <tt>**print**</tt> statement using that variable that outputs the following\n",
    "\n",
    "<blockquote>A circle with a radius of 6 inches has an area of 113.09733552923255 square inches</blockquote>"
   ]
  },
  {
   "cell_type": "code",
   "execution_count": null,
   "metadata": {},
   "outputs": [],
   "source": []
  }
 ],
 "metadata": {
  "kernelspec": {
   "display_name": "Python 3",
   "language": "python",
   "name": "python3"
  },
  "language_info": {
   "codemirror_mode": {
    "name": "ipython",
    "version": 3
   },
   "file_extension": ".py",
   "mimetype": "text/x-python",
   "name": "python",
   "nbconvert_exporter": "python",
   "pygments_lexer": "ipython3",
   "version": "3.6.3"
  }
 },
 "nbformat": 4,
 "nbformat_minor": 2
}
