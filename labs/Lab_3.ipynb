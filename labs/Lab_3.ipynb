{
 "cells": [
  {
   "cell_type": "markdown",
   "metadata": {},
   "source": [
    "# Principles of Geocomputing: Lab 3B (40 points)"
   ]
  },
  {
   "cell_type": "markdown",
   "metadata": {},
   "source": [
    "## 1. Lab info and submission (3 points)"
   ]
  },
  {
   "cell_type": "markdown",
   "metadata": {},
   "source": [
    "The first section of each lab assignment should contain your name, Internet ID , and hours spent, declared using the variables below (<tt>**hoursspent**</tt> should be an <tt>int</tt> or a <tt>**float**</tt>, not a string). You may be asked to make use of these variables within the lab, so be careful not to overwrite their values further down.\n",
    "\n",
    "When submitting this lab in Moodle, purge the unneeded sections (see \"Preparing this file for submission\") and upload to Moodle using the lab file.\n",
    "\n",
    "\n",
    "* __Standard__:&nbsp;&nbsp;&nbsp; <tt>&lt;InternetID&gt;_lab&lt;lab#&gt;.ipynb</tt>\n",
    "* __Example__:&nbsp;&nbsp;&nbsp; <tt>user1234_lab2.ipynb</tt>"
   ]
  },
  {
   "cell_type": "code",
   "execution_count": 1,
   "metadata": {
    "collapsed": true
   },
   "outputs": [],
   "source": [
    "yourname = None\n",
    "yourintid = None\n",
    "hoursspent = None"
   ]
  },
  {
   "cell_type": "markdown",
   "metadata": {},
   "source": [
    "In the cell below, write some comments regarding the lab once it's complete. You can write as much or as little as you want. I won't be grading the content, but it will assist in the creation of future labs. I would recommend using a markdown cell. A cell can be converted to markdown by clicking on the cell, then clicking on **Cell** in the menu, then clicking on **Cell Type**, then choosing **Markdown**. For text, you do not need to use any symbols and can just write. For more information on Markdown, see [here.](https://github.com/adam-p/markdown-here/wiki/Markdown-Cheatsheet)"
   ]
  },
  {
   "cell_type": "code",
   "execution_count": null,
   "metadata": {
    "collapsed": true
   },
   "outputs": [],
   "source": []
  },
  {
   "cell_type": "markdown",
   "metadata": {},
   "source": [
    "## Preparing this file for submission\n",
    "\n",
    "Before submitting this lab in Moodle, remove all cells that are not:\n",
    "\n",
    "* the assignment title,\n",
    "* your name, Internet ID, and hours spent,\n",
    "* numbered question headings (e.g., “1. Demonstrate how to…”),\n",
    "* code cells (provided in the lab and your additions),\n",
    "* your own comments in markdown (# comments in code cells are OK), or\n",
    "* cells you're explicity told to keep.\n",
    "\n",
    "For example, this cell and the \"Preparing this file for submission\" cell should be deleted."
   ]
  },
  {
   "cell_type": "markdown",
   "metadata": {},
   "source": [
    "## Principles and best practices in this lab\n",
    "You are expected to follow the principles and best practices material covered in class and readings. This includes good use/declaration of\n",
    "\n",
    "* comments,\n",
    "* variable names,\n",
    "* function names,\n",
    "* string quoting,\n",
    "* whitespace (there's some wiggle room here),\n",
    "* etc.\n",
    "\n",
    "Above all, be consistent in your coding."
   ]
  },
  {
   "cell_type": "markdown",
   "metadata": {},
   "source": [
    "## 2. Conditionals (7 points)"
   ]
  },
  {
   "cell_type": "markdown",
   "metadata": {},
   "source": [
    "This section is all about practicing conditionals. \n",
    "\n",
    "Use these following variables for this section.\n",
    "* x = 2\n",
    "* y = 4\n",
    "* z = 6"
   ]
  },
  {
   "cell_type": "markdown",
   "metadata": {},
   "source": [
    "Define the variables. "
   ]
  },
  {
   "cell_type": "code",
   "execution_count": null,
   "metadata": {
    "collapsed": true
   },
   "outputs": [],
   "source": []
  },
  {
   "cell_type": "markdown",
   "metadata": {},
   "source": [
    "Use a conditional(s) to check whether variable **x** is less than variable **y**. Print the results."
   ]
  },
  {
   "cell_type": "code",
   "execution_count": null,
   "metadata": {
    "collapsed": true
   },
   "outputs": [],
   "source": []
  },
  {
   "cell_type": "markdown",
   "metadata": {},
   "source": [
    "Use a conditional(s) to check whether variable **x** is greater than variable **y** and **z**. Print the results."
   ]
  },
  {
   "cell_type": "code",
   "execution_count": null,
   "metadata": {
    "collapsed": true
   },
   "outputs": [],
   "source": []
  },
  {
   "cell_type": "markdown",
   "metadata": {},
   "source": [
    "Use a conditional(s) to check whether variable **z** is greater than variable **y** and smaller than the number **10**. Print the results."
   ]
  },
  {
   "cell_type": "code",
   "execution_count": null,
   "metadata": {
    "collapsed": true
   },
   "outputs": [],
   "source": []
  },
  {
   "cell_type": "markdown",
   "metadata": {},
   "source": [
    "Add variable **x** and **y** together and use a conditional to compare it to variable **z**."
   ]
  },
  {
   "cell_type": "code",
   "execution_count": null,
   "metadata": {
    "collapsed": true
   },
   "outputs": [],
   "source": []
  },
  {
   "cell_type": "markdown",
   "metadata": {},
   "source": [
    "## 3. Add numbers from strings (5 points)"
   ]
  },
  {
   "cell_type": "markdown",
   "metadata": {},
   "source": [
    "Often you may find yourself with numeric data stored as a string instead of an <tt>**int**</tt> or <tt>**float**</tt>. Use casting to add <tt>**bushels2015**</tt> and <tt>**bushels2016**</tt> and save the result to a variable named <tt>**bushelstot**</tt>, then call <tt>**print**</tt> to output the following text.\n",
    "\n",
    "<blockquote>There were # total bushels produced in 2015 and 2016</blockquote>\n",
    "\n",
    "Use your <tt>**bushels2016**</tt> variable to produce the value where the \"#\" is."
   ]
  },
  {
   "cell_type": "code",
   "execution_count": null,
   "metadata": {
    "collapsed": true
   },
   "outputs": [],
   "source": [
    "bushels2015 = \"95\"\n",
    "bushels2016 = \"110\""
   ]
  },
  {
   "cell_type": "markdown",
   "metadata": {},
   "source": [
    "Using the original <tt>**bushels2015**</tt> and <tt>**bushels2016**</tt> variable values and types (strings) from above, construct an <tt>**if-else**</tt> conditional that prints either\n",
    "\n",
    "<blockquote>There were more bushels produced in 2015 than 2016 (# in 2015, # in 2016)</blockquote>\n",
    "\n",
    "or\n",
    "\n",
    "<blockquote>&nbsp;&nbsp;There were more bushels produced in 2016 than 2015 (# in 2016, # in 2015)</blockquote>\n",
    "\n",
    "depending on which is greater. Include the bushel counts for the appropriate year where you see the \"#\" in the example output, using the variables already provided (don't type the numbers into your <tt>**print**</tt> statement.\n",
    "\n",
    "You don't need to handle the case where the values for 2015 and 2016 are identical, but think about how you might handle that in the future."
   ]
  },
  {
   "cell_type": "code",
   "execution_count": null,
   "metadata": {
    "collapsed": true
   },
   "outputs": [],
   "source": []
  },
  {
   "cell_type": "markdown",
   "metadata": {},
   "source": [
    "\n",
    "## 4. Manhattan Distance (10 points)"
   ]
  },
  {
   "cell_type": "markdown",
   "metadata": {},
   "source": [
    "Instead of considering shortest Euclidean distance, let's look at Manhattan distance, one of several names for a distance that could be described as that of the sum of the legs of a right triangle instead of the hypotenuse. For instance, if we want to get from (0,0) to (3,4), instead of going directly between the two points (distance=5), we would go from (0,0) to (3,0) (distance=3) and then from (3,0) to (3,4) (distance=4) for a total distance of 7, the Manhattan distance. In the code below, calculate the manhattan distance between the two points. For the two points, define a variable that uses the **input()** statement to receive input from the user. Print the distance between the points in an easy to read fashion."
   ]
  },
  {
   "cell_type": "code",
   "execution_count": null,
   "metadata": {
    "collapsed": true
   },
   "outputs": [],
   "source": []
  },
  {
   "cell_type": "markdown",
   "metadata": {},
   "source": [
    "## 5. Euclidean Distance (15 points)\n"
   ]
  },
  {
   "cell_type": "markdown",
   "metadata": {},
   "source": [
    "In the code below, calculate the euclidean distance between the two points. For the two points, define a variable that uses the **input()** statement to receive input from the user. Print the distance between the points in an easy to read fashion.  You may want to consider casting variables."
   ]
  },
  {
   "cell_type": "code",
   "execution_count": null,
   "metadata": {
    "collapsed": true
   },
   "outputs": [],
   "source": []
  },
  {
   "cell_type": "markdown",
   "metadata": {},
   "source": [
    "Now, consider comparing distances to each other. For example, is the euclidean distance from Point A to Point B greater than the euclidean distance from Point C to Point D. Below calculate the euclidean distance between each of the cities and then compare the results using conditional(s) to determine the longest distance and the shortest distance between the cities.\n",
    "\n",
    "Use these points for the calculations.\n",
    "* Minneapolis, MN (44.9778, -93.2650)\n",
    "* Anchorage, AK (61.2181, -149.9003)\n",
    "* Los Angeles, CA (34.0522, -118.2437) "
   ]
  },
  {
   "cell_type": "code",
   "execution_count": null,
   "metadata": {
    "collapsed": true
   },
   "outputs": [],
   "source": []
  },
  {
   "cell_type": "markdown",
   "metadata": {},
   "source": [
    "## Additional Practice (Not graded for credit)"
   ]
  },
  {
   "cell_type": "markdown",
   "metadata": {
    "collapsed": true
   },
   "source": [
    "Since we have reviewed some Python principles and best practices, try to refactor your code from Euclidean Distance. If you thinnk your code is perfect, try to think of another way to code it. In the upcoming weeks, we will talk about functions.  Also, thinking about refactoring code at this stage will help you to rationalize why you do things in code and will create a more consistent style."
   ]
  },
  {
   "cell_type": "code",
   "execution_count": null,
   "metadata": {
    "collapsed": true
   },
   "outputs": [],
   "source": []
  },
  {
   "cell_type": "markdown",
   "metadata": {
    "collapsed": true
   },
   "source": [
    "## Write your own power/exponentiation function"
   ]
  },
  {
   "cell_type": "markdown",
   "metadata": {},
   "source": [
    "See the [docs for defining functions.](https://docs.python.org/3/tutorial/controlflow.html#defining-functions)"
   ]
  },
  {
   "cell_type": "code",
   "execution_count": null,
   "metadata": {
    "collapsed": true
   },
   "outputs": [],
   "source": []
  },
  {
   "cell_type": "markdown",
   "metadata": {},
   "source": [
    "## Write a function for Pythagorean theorem for hypotenuse"
   ]
  },
  {
   "cell_type": "code",
   "execution_count": null,
   "metadata": {
    "collapsed": true
   },
   "outputs": [],
   "source": []
  }
 ],
 "metadata": {
  "anaconda-cloud": {},
  "kernelspec": {
   "display_name": "Python [default]",
   "language": "python",
   "name": "python3"
  },
  "language_info": {
   "codemirror_mode": {
    "name": "ipython",
    "version": 3
   },
   "file_extension": ".py",
   "mimetype": "text/x-python",
   "name": "python",
   "nbconvert_exporter": "python",
   "pygments_lexer": "ipython3",
   "version": "3.5.2"
  }
 },
 "nbformat": 4,
 "nbformat_minor": 2
}
